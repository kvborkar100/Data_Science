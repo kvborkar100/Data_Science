{
  "cells": [
    {
      "metadata": {
        "_uuid": "8f2839f25d086af736a60e9eeb907d3b93b6e0e5",
        "_cell_guid": "b1076dfc-b9ad-4769-8c92-a6c4dae69d19",
        "trusted": true,
        "collapsed": true
      },
      "cell_type": "code",
      "source": "import pandas as pd\nimport numpy as np\nimport matplotlib.pyplot as plt\nimport matplotlib\nimport seaborn as sns\n%matplotlib inline\nmatplotlib.rcParams['figure.figsize'] = [8,6]\nimport os\nimport cv2\nfrom sklearn.model_selection import train_test_split\nfrom sklearn.metrics import confusion_matrix\nimport itertools\nfrom tqdm import tqdm\nfrom keras.utils.np_utils import to_categorical\nfrom keras.models import Sequential\nfrom keras.layers import Dense, Dropout, Flatten, Conv2D, MaxPool2D\nfrom keras.optimizers import adam\nfrom keras.preprocessing.image import ImageDataGenerator\nfrom keras.callbacks import ReduceLROnPlateau",
      "execution_count": null,
      "outputs": []
    },
    {
      "metadata": {
        "_cell_guid": "79c7e3d0-c299-4dcb-8224-4455121ee9b0",
        "_uuid": "d629ff2d2480ee46fbb7e2d37f6b5fab8052498a",
        "trusted": true,
        "collapsed": true
      },
      "cell_type": "code",
      "source": "# Load data\ntrain_df = pd.read_csv('../input/train_lbeltwx/train.csv')\ntest_df = pd.read_csv('../input/test_scvgim0/test.csv')\ntrain_df.head()",
      "execution_count": null,
      "outputs": []
    },
    {
      "metadata": {
        "trusted": true,
        "_uuid": "b516386ca589ab02cbd49d7417b83c77b94c4881",
        "collapsed": true
      },
      "cell_type": "code",
      "source": "label_counts = train_df.label.value_counts()\nplt.figure(figsize = (12,6))\nsns.barplot(label_counts.index, label_counts.values, alpha = 0.9)\nplt.xticks(rotation = 'vertical')\nplt.xlabel('Image Labels', fontsize =12)\nplt.ylabel('Counts', fontsize = 12)\nplt.show()",
      "execution_count": null,
      "outputs": []
    },
    {
      "metadata": {
        "trusted": true,
        "collapsed": true,
        "_uuid": "6722097e4ac6dfdf20f38921a1591e519552f0bb"
      },
      "cell_type": "code",
      "source": "TRAIN_PATH = '../input/train_lbeltwx/train/'\nTEST_PATH = '../input/test_scvgim0/test/'",
      "execution_count": null,
      "outputs": []
    },
    {
      "metadata": {
        "trusted": true,
        "collapsed": true,
        "_uuid": "f56dd43018d823efd2267335c0d7f7c785fdbf99"
      },
      "cell_type": "code",
      "source": "def read_image(img_path):\n    img = cv2.imread(img_path, cv2.IMREAD_COLOR)\n    img = cv2.cvtColor(img, cv2.COLOR_BGR2RGB)\n    img = cv2.resize(img, (28,28)) \n    return img",
      "execution_count": null,
      "outputs": []
    },
    {
      "metadata": {
        "trusted": true,
        "_uuid": "c44ab6052de7c0e2a39e0c38791c09f73c526dfd",
        "collapsed": true
      },
      "cell_type": "code",
      "source": "train_data = []\ntest_data = []\ntrain_labels = train_df['label'].values\n\nfor img in tqdm(train_df['id'].values):\n    train_data.append(read_image(TRAIN_PATH + '{}.png'.format(img)))\n    \nfor img in tqdm(test_df['id'].values):\n    test_data.append(read_image(TEST_PATH + '{}.png'.format(img)))",
      "execution_count": null,
      "outputs": []
    },
    {
      "metadata": {
        "trusted": true,
        "collapsed": true,
        "_uuid": "a2d412567b4fbf50523a96fee90510d257fe1b83"
      },
      "cell_type": "code",
      "source": "x_train = np.array(train_data, np.float32) / 255.\nx_test = np.array(test_data, np.float32) / 255.",
      "execution_count": null,
      "outputs": []
    },
    {
      "metadata": {
        "trusted": true,
        "_uuid": "a86b968c0994d63eeb64d32d5f9a63e6da7327cc",
        "collapsed": true
      },
      "cell_type": "code",
      "source": "test = train_df.label",
      "execution_count": null,
      "outputs": []
    },
    {
      "metadata": {
        "trusted": true,
        "_uuid": "5a836b8b0f6d5747c63620565969ba177ff1ca59",
        "collapsed": true
      },
      "cell_type": "code",
      "source": "# One hot encoding dependent varible\ntest = to_categorical(test,num_classes=10)",
      "execution_count": null,
      "outputs": []
    },
    {
      "metadata": {
        "trusted": true,
        "_uuid": "a5f3efae9653903dc730d03fd3d941d220cc5a3a",
        "collapsed": true
      },
      "cell_type": "code",
      "source": "test[0]",
      "execution_count": null,
      "outputs": []
    },
    {
      "metadata": {
        "trusted": true,
        "_uuid": "edcbb5c675bf237f5ee13751b89d718921f9a4ca",
        "collapsed": true
      },
      "cell_type": "code",
      "source": "\n# check some images# check  \ndef show_images(ix):\n    image_train = read_image(TRAIN_PATH + str(train_df.id[ix]) + '.png')\n    image_test = read_image(TEST_PATH + str(test_df.id[ix]) + '.png')\n    \n    pair = np.concatenate((image_train, image_test), axis=1)\n    \n    plt.figure(figsize = (6,6))\n    plt.imshow(pair)\n    \n# first 4 images in train and test set\nfor idx in range(4):\n    show_images(idx)",
      "execution_count": null,
      "outputs": []
    },
    {
      "metadata": {
        "trusted": true,
        "collapsed": true,
        "_uuid": "059a19b05a6da85577c2a526723a80d9c001f00e"
      },
      "cell_type": "code",
      "source": "# Splitting data into training set and validation set\nX_train, X_test, y_train, y_test = train_test_split(x_train,test,test_size = 0.3,random_state = 100)",
      "execution_count": null,
      "outputs": []
    },
    {
      "metadata": {
        "trusted": true,
        "collapsed": true,
        "_uuid": "5a95180de2254f0409de86a3ceaa7bab8be19943"
      },
      "cell_type": "code",
      "source": "classifier = Sequential()\n\n# adding 2 convolution layer and 1 maxpooling layer\nclassifier.add(Conv2D(filters = 32, kernel_size = (3,3),padding = 'Same', activation ='relu', input_shape = (28,28,3)))\nclassifier.add(Conv2D(filters = 32, kernel_size = (3,3),padding = 'Same', activation ='relu'))\nclassifier.add(MaxPool2D(pool_size=(2,2)))\nclassifier.add(Dropout(0.25))\n\n# adding 2 convolution layer and 1 maxpooling layer\nclassifier.add(Conv2D(filters = 64, kernel_size = (3,3),padding = 'Same', activation ='relu'))\nclassifier.add(Conv2D(filters = 64, kernel_size = (3,3),padding = 'Same', activation ='relu'))\nclassifier.add(MaxPool2D(pool_size=(2,2)))\nclassifier.add(Dropout(0.25))\n\nclassifier.add(Flatten())\nclassifier.add(Dense(256, activation = \"relu\"))\nclassifier.add(Dropout(0.5))\nclassifier.add(Dense(10, activation = \"softmax\"))",
      "execution_count": null,
      "outputs": []
    },
    {
      "metadata": {
        "trusted": true,
        "collapsed": true,
        "_uuid": "f72f5a04e2bd04fb34b5c1041e749327fad6f931"
      },
      "cell_type": "code",
      "source": "#Compile model\nclassifier.compile(optimizer='adam',loss='categorical_crossentropy',metrics=['accuracy'])",
      "execution_count": null,
      "outputs": []
    },
    {
      "metadata": {
        "trusted": true,
        "collapsed": true,
        "_uuid": "db16c31d8e1622a021233a076f2e8a6c3467453c"
      },
      "cell_type": "code",
      "source": "get_lr = ReduceLROnPlateau(monitor='val_acc', \n                            patience=3, \n                            verbose=1, \n                            factor=0.5, \n                            min_lr=0.00001)",
      "execution_count": null,
      "outputs": []
    },
    {
      "metadata": {
        "trusted": true,
        "collapsed": true,
        "_uuid": "ecab9f4cce62c1d3cf1e669c1953bfb6427e370b"
      },
      "cell_type": "code",
      "source": "datagen = ImageDataGenerator(\n    rotation_range=10,\n    zoom_range = 0.1,\n    width_shift_range = 0.1,\n    height_shift_range = 0.1\n    )\ndatagen.fit(X_train)",
      "execution_count": null,
      "outputs": []
    },
    {
      "metadata": {
        "trusted": true,
        "_uuid": "eefddb819e43ddc8e3131bb9506a49a90aa10bd9",
        "collapsed": true
      },
      "cell_type": "code",
      "source": "epochs = 40\nbatch_size = 100\nclassifier.fit_generator(datagen.flow(X_train,y_train, batch_size=batch_size),\n                              epochs = epochs, validation_data = (X_test,y_test),\n                              verbose = 2,\n                              callbacks=[get_lr]\n                                )",
      "execution_count": null,
      "outputs": []
    },
    {
      "metadata": {
        "trusted": true,
        "collapsed": true,
        "_uuid": "46b409880e7211a36af68bba3264e046d52b0d11"
      },
      "cell_type": "code",
      "source": "y_pred = classifier.predict(x_test)",
      "execution_count": null,
      "outputs": []
    },
    {
      "metadata": {
        "trusted": true,
        "_uuid": "471c266fbdd46abb006131a3f0c9d94a291cea8c",
        "collapsed": true
      },
      "cell_type": "code",
      "source": "y_pred = np.argmax(y_pred,axis=1)",
      "execution_count": null,
      "outputs": []
    },
    {
      "metadata": {
        "trusted": true,
        "_uuid": "be88ec7326d433d3b15cdc355b6245ee418c8d3c",
        "collapsed": true
      },
      "cell_type": "code",
      "source": "output = pd.concat([test_df.id,pd.Series(y_pred,name =\"label\")],axis = 1)",
      "execution_count": null,
      "outputs": []
    },
    {
      "metadata": {
        "trusted": true,
        "_uuid": "386ff190a767b5c7a36cdbd363419febad3051f6",
        "collapsed": true
      },
      "cell_type": "code",
      "source": "output.head()",
      "execution_count": null,
      "outputs": []
    },
    {
      "metadata": {
        "trusted": true,
        "_uuid": "2b63e967c808df900c95f5408159cf230c727426",
        "collapsed": true
      },
      "cell_type": "code",
      "source": "output.to_csv(\"2nd_submission.csv\",index=False)",
      "execution_count": null,
      "outputs": []
    },
    {
      "metadata": {
        "trusted": true,
        "collapsed": true,
        "_uuid": "dbc19fd1dd348aa18d2a07bd8f44e4d443415dde"
      },
      "cell_type": "code",
      "source": "",
      "execution_count": null,
      "outputs": []
    }
  ],
  "metadata": {
    "kernelspec": {
      "display_name": "Python 3",
      "language": "python",
      "name": "python3"
    },
    "language_info": {
      "name": "python",
      "version": "3.6.4",
      "mimetype": "text/x-python",
      "codemirror_mode": {
        "name": "ipython",
        "version": 3
      },
      "pygments_lexer": "ipython3",
      "nbconvert_exporter": "python",
      "file_extension": ".py"
    }
  },
  "nbformat": 4,
  "nbformat_minor": 1
}