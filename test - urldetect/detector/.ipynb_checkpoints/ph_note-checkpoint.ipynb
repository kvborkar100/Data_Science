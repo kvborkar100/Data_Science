{
 "cells": [
  {
   "cell_type": "code",
   "execution_count": 112,
   "metadata": {},
   "outputs": [],
   "source": [
    "import pandas as pd\n",
    "import matplotlib.pyplot as plt\n",
    "%matplotlib inline\n",
    "import numpy as np\n",
    "import pickle"
   ]
  },
  {
   "cell_type": "code",
   "execution_count": 61,
   "metadata": {
    "collapsed": true
   },
   "outputs": [],
   "source": [
    "df = pd.read_csv('phishing2.csv')"
   ]
  },
  {
   "cell_type": "code",
   "execution_count": 62,
   "metadata": {},
   "outputs": [
    {
     "data": {
      "text/plain": [
       "Index(['ip_address', 'url_length', 'tiny_url', 'having_at_symbol',\n",
       "       'double_slash', 'Prefix_Suffix', 'sub_domain', 'ssl_state',\n",
       "       'domain_registeration_length', 'favicon', 'port', 'https_token',\n",
       "       'requesr_url', 'url_anchor', 'links_in_tags', 'sfh', 'email_submit',\n",
       "       'abnormal_url', 'redirect', 'on_mouseover', 'right_click', 'pop_up',\n",
       "       'iframe', 'age_of_domain', 'dns_record', 'web_traffic', 'page_rank',\n",
       "       'google_index', 'Links_pointing_to_page', 'statistical_report',\n",
       "       'result'],\n",
       "      dtype='object')"
      ]
     },
     "execution_count": 62,
     "metadata": {},
     "output_type": "execute_result"
    }
   ],
   "source": [
    "df.columns\n",
    "\n"
   ]
  },
  {
   "cell_type": "code",
   "execution_count": 63,
   "metadata": {
    "collapsed": true
   },
   "outputs": [],
   "source": [
    "feature_column_names = [ 'url_length','having_at_symbol','double_slash','https_token','ip_address', 'tiny_url', \n",
    "    'email_submit','ssl_state', 'port','redirect','domain_registeration_length','Prefix_Suffix','sub_domains','age_of_domain']\n"
   ]
  },
  {
   "cell_type": "code",
   "execution_count": 409,
   "metadata": {
    "collapsed": true
   },
   "outputs": [],
   "source": [
    "def correlation_matrix(df):\n",
    "    from matplotlib import pyplot as plt\n",
    "    from matplotlib import cm as cm\n",
    "\n",
    "    fig = plt.figure()\n",
    "    ax1 = fig.add_subplot(111)\n",
    "    cmap = cm.get_cmap('jet', 130)\n",
    "    cax = ax1.imshow(df.corr(), interpolation=\"nearest\", cmap=cmap)\n",
    "    ax1.grid(True)\n",
    "    plt.title('Abalone Feature Correlation')\n",
    "    labels=df.columns\n",
    "    ax1.set_xticklabels(labels,fontsize=10)\n",
    "    ax1.set_yticklabels(labels,fontsize=10)\n",
    "    # Add colorbar, make sure to specify tick locations to match desired ticklabels\n",
    "    fig.colorbar(cax, ticks=[.75,.8,.85,.90,.95,1])\n",
    "    plt.show()\n"
   ]
  },
  {
   "cell_type": "code",
   "execution_count": 414,
   "metadata": {
    "collapsed": true
   },
   "outputs": [
    {
     "data": {
      "text/html": [
       "<div>\n",
       "<style>\n",
       "    .dataframe thead tr:only-child th {\n",
       "        text-align: right;\n",
       "    }\n",
       "\n",
       "    .dataframe thead th {\n",
       "        text-align: left;\n",
       "    }\n",
       "\n",
       "    .dataframe tbody tr th {\n",
       "        vertical-align: top;\n",
       "    }\n",
       "</style>\n",
       "<table border=\"1\" class=\"dataframe\">\n",
       "  <thead>\n",
       "    <tr style=\"text-align: right;\">\n",
       "      <th></th>\n",
       "      <th>ip_address</th>\n",
       "      <th>url_length</th>\n",
       "      <th>tiny_url</th>\n",
       "      <th>having_at_symbol</th>\n",
       "      <th>double_slash</th>\n",
       "      <th>Prefix_Suffix</th>\n",
       "      <th>sub_domain</th>\n",
       "      <th>ssl_state</th>\n",
       "      <th>domain_registeration_length</th>\n",
       "      <th>favicon</th>\n",
       "      <th>...</th>\n",
       "      <th>pop_up</th>\n",
       "      <th>iframe</th>\n",
       "      <th>age_of_domain</th>\n",
       "      <th>dns_record</th>\n",
       "      <th>web_traffic</th>\n",
       "      <th>page_rank</th>\n",
       "      <th>google_index</th>\n",
       "      <th>Links_pointing_to_page</th>\n",
       "      <th>statistical_report</th>\n",
       "      <th>result</th>\n",
       "    </tr>\n",
       "  </thead>\n",
       "  <tbody>\n",
       "    <tr>\n",
       "      <th>ip_address</th>\n",
       "      <td>1.000000</td>\n",
       "      <td>-0.052411</td>\n",
       "      <td>0.403461</td>\n",
       "      <td>0.158699</td>\n",
       "      <td>0.397389</td>\n",
       "      <td>-0.005257</td>\n",
       "      <td>-0.080745</td>\n",
       "      <td>0.071414</td>\n",
       "      <td>-0.022739</td>\n",
       "      <td>0.087025</td>\n",
       "      <td>...</td>\n",
       "      <td>0.096882</td>\n",
       "      <td>0.054694</td>\n",
       "      <td>-0.010446</td>\n",
       "      <td>-0.050733</td>\n",
       "      <td>0.002922</td>\n",
       "      <td>-0.091774</td>\n",
       "      <td>0.029153</td>\n",
       "      <td>-0.339065</td>\n",
       "      <td>-0.019103</td>\n",
       "      <td>0.094160</td>\n",
       "    </tr>\n",
       "    <tr>\n",
       "      <th>url_length</th>\n",
       "      <td>-0.052411</td>\n",
       "      <td>1.000000</td>\n",
       "      <td>-0.097881</td>\n",
       "      <td>-0.075108</td>\n",
       "      <td>-0.081247</td>\n",
       "      <td>0.055247</td>\n",
       "      <td>0.003997</td>\n",
       "      <td>0.048754</td>\n",
       "      <td>-0.221892</td>\n",
       "      <td>-0.042497</td>\n",
       "      <td>...</td>\n",
       "      <td>-0.049381</td>\n",
       "      <td>-0.013838</td>\n",
       "      <td>0.179426</td>\n",
       "      <td>-0.040823</td>\n",
       "      <td>0.008993</td>\n",
       "      <td>0.183518</td>\n",
       "      <td>0.002902</td>\n",
       "      <td>-0.022987</td>\n",
       "      <td>-0.067153</td>\n",
       "      <td>0.057430</td>\n",
       "    </tr>\n",
       "    <tr>\n",
       "      <th>tiny_url</th>\n",
       "      <td>0.403461</td>\n",
       "      <td>-0.097881</td>\n",
       "      <td>1.000000</td>\n",
       "      <td>0.104447</td>\n",
       "      <td>0.842796</td>\n",
       "      <td>-0.080471</td>\n",
       "      <td>-0.041916</td>\n",
       "      <td>-0.061426</td>\n",
       "      <td>0.060923</td>\n",
       "      <td>0.006101</td>\n",
       "      <td>...</td>\n",
       "      <td>0.036616</td>\n",
       "      <td>0.016581</td>\n",
       "      <td>-0.052596</td>\n",
       "      <td>0.436064</td>\n",
       "      <td>-0.047074</td>\n",
       "      <td>0.014591</td>\n",
       "      <td>0.155844</td>\n",
       "      <td>-0.198410</td>\n",
       "      <td>0.085461</td>\n",
       "      <td>-0.067966</td>\n",
       "    </tr>\n",
       "    <tr>\n",
       "      <th>having_at_symbol</th>\n",
       "      <td>0.158699</td>\n",
       "      <td>-0.075108</td>\n",
       "      <td>0.104447</td>\n",
       "      <td>1.000000</td>\n",
       "      <td>0.086960</td>\n",
       "      <td>-0.011726</td>\n",
       "      <td>-0.058976</td>\n",
       "      <td>0.031220</td>\n",
       "      <td>0.015522</td>\n",
       "      <td>0.304899</td>\n",
       "      <td>...</td>\n",
       "      <td>0.290893</td>\n",
       "      <td>0.284410</td>\n",
       "      <td>-0.005499</td>\n",
       "      <td>-0.047872</td>\n",
       "      <td>0.032918</td>\n",
       "      <td>-0.064735</td>\n",
       "      <td>0.037061</td>\n",
       "      <td>-0.006080</td>\n",
       "      <td>-0.080357</td>\n",
       "      <td>0.052948</td>\n",
       "    </tr>\n",
       "    <tr>\n",
       "      <th>double_slash</th>\n",
       "      <td>0.397389</td>\n",
       "      <td>-0.081247</td>\n",
       "      <td>0.842796</td>\n",
       "      <td>0.086960</td>\n",
       "      <td>1.000000</td>\n",
       "      <td>-0.085590</td>\n",
       "      <td>-0.043079</td>\n",
       "      <td>-0.036200</td>\n",
       "      <td>0.047464</td>\n",
       "      <td>0.035100</td>\n",
       "      <td>...</td>\n",
       "      <td>0.054463</td>\n",
       "      <td>0.010459</td>\n",
       "      <td>-0.050107</td>\n",
       "      <td>0.431409</td>\n",
       "      <td>-0.062369</td>\n",
       "      <td>-0.003132</td>\n",
       "      <td>0.178415</td>\n",
       "      <td>-0.194165</td>\n",
       "      <td>0.070390</td>\n",
       "      <td>-0.038608</td>\n",
       "    </tr>\n",
       "    <tr>\n",
       "      <th>Prefix_Suffix</th>\n",
       "      <td>-0.005257</td>\n",
       "      <td>0.055247</td>\n",
       "      <td>-0.080471</td>\n",
       "      <td>-0.011726</td>\n",
       "      <td>-0.085590</td>\n",
       "      <td>1.000000</td>\n",
       "      <td>0.087891</td>\n",
       "      <td>0.261391</td>\n",
       "      <td>-0.096799</td>\n",
       "      <td>-0.007504</td>\n",
       "      <td>...</td>\n",
       "      <td>-0.014733</td>\n",
       "      <td>-0.036904</td>\n",
       "      <td>0.074116</td>\n",
       "      <td>-0.016556</td>\n",
       "      <td>0.110598</td>\n",
       "      <td>-0.006834</td>\n",
       "      <td>0.067781</td>\n",
       "      <td>0.067423</td>\n",
       "      <td>-0.002763</td>\n",
       "      <td>0.348606</td>\n",
       "    </tr>\n",
       "    <tr>\n",
       "      <th>sub_domain</th>\n",
       "      <td>-0.080745</td>\n",
       "      <td>0.003997</td>\n",
       "      <td>-0.041916</td>\n",
       "      <td>-0.058976</td>\n",
       "      <td>-0.043079</td>\n",
       "      <td>0.087891</td>\n",
       "      <td>1.000000</td>\n",
       "      <td>0.267649</td>\n",
       "      <td>-0.082839</td>\n",
       "      <td>-0.016704</td>\n",
       "      <td>...</td>\n",
       "      <td>-0.025312</td>\n",
       "      <td>0.010637</td>\n",
       "      <td>0.119254</td>\n",
       "      <td>0.125493</td>\n",
       "      <td>-0.005764</td>\n",
       "      <td>0.120730</td>\n",
       "      <td>0.057673</td>\n",
       "      <td>-0.010526</td>\n",
       "      <td>0.081627</td>\n",
       "      <td>0.298323</td>\n",
       "    </tr>\n",
       "    <tr>\n",
       "      <th>ssl_state</th>\n",
       "      <td>0.071414</td>\n",
       "      <td>0.048754</td>\n",
       "      <td>-0.061426</td>\n",
       "      <td>0.031220</td>\n",
       "      <td>-0.036200</td>\n",
       "      <td>0.261391</td>\n",
       "      <td>0.267649</td>\n",
       "      <td>1.000000</td>\n",
       "      <td>-0.193622</td>\n",
       "      <td>-0.014757</td>\n",
       "      <td>...</td>\n",
       "      <td>-0.013005</td>\n",
       "      <td>-0.002773</td>\n",
       "      <td>0.162809</td>\n",
       "      <td>0.050972</td>\n",
       "      <td>0.258768</td>\n",
       "      <td>0.074545</td>\n",
       "      <td>0.096051</td>\n",
       "      <td>-0.011710</td>\n",
       "      <td>0.063411</td>\n",
       "      <td>0.714741</td>\n",
       "    </tr>\n",
       "    <tr>\n",
       "      <th>domain_registeration_length</th>\n",
       "      <td>-0.022739</td>\n",
       "      <td>-0.221892</td>\n",
       "      <td>0.060923</td>\n",
       "      <td>0.015522</td>\n",
       "      <td>0.047464</td>\n",
       "      <td>-0.096799</td>\n",
       "      <td>-0.082839</td>\n",
       "      <td>-0.193622</td>\n",
       "      <td>1.000000</td>\n",
       "      <td>0.054253</td>\n",
       "      <td>...</td>\n",
       "      <td>0.051410</td>\n",
       "      <td>0.004393</td>\n",
       "      <td>-0.062851</td>\n",
       "      <td>-0.010477</td>\n",
       "      <td>-0.134454</td>\n",
       "      <td>-0.059898</td>\n",
       "      <td>-0.039766</td>\n",
       "      <td>0.122672</td>\n",
       "      <td>-0.002212</td>\n",
       "      <td>-0.225789</td>\n",
       "    </tr>\n",
       "    <tr>\n",
       "      <th>favicon</th>\n",
       "      <td>0.087025</td>\n",
       "      <td>-0.042497</td>\n",
       "      <td>0.006101</td>\n",
       "      <td>0.304899</td>\n",
       "      <td>0.035100</td>\n",
       "      <td>-0.007504</td>\n",
       "      <td>-0.016704</td>\n",
       "      <td>-0.014757</td>\n",
       "      <td>0.054253</td>\n",
       "      <td>1.000000</td>\n",
       "      <td>...</td>\n",
       "      <td>0.939633</td>\n",
       "      <td>0.627607</td>\n",
       "      <td>-0.002628</td>\n",
       "      <td>0.088211</td>\n",
       "      <td>-0.050922</td>\n",
       "      <td>0.011699</td>\n",
       "      <td>-0.016668</td>\n",
       "      <td>-0.127243</td>\n",
       "      <td>0.300917</td>\n",
       "      <td>-0.000280</td>\n",
       "    </tr>\n",
       "    <tr>\n",
       "      <th>port</th>\n",
       "      <td>0.060979</td>\n",
       "      <td>0.000323</td>\n",
       "      <td>0.002201</td>\n",
       "      <td>0.364891</td>\n",
       "      <td>0.025060</td>\n",
       "      <td>-0.022546</td>\n",
       "      <td>0.004863</td>\n",
       "      <td>0.027473</td>\n",
       "      <td>0.022478</td>\n",
       "      <td>0.803834</td>\n",
       "      <td>...</td>\n",
       "      <td>0.748517</td>\n",
       "      <td>0.687044</td>\n",
       "      <td>0.008459</td>\n",
       "      <td>0.054849</td>\n",
       "      <td>-0.028543</td>\n",
       "      <td>0.017954</td>\n",
       "      <td>-0.005413</td>\n",
       "      <td>-0.139104</td>\n",
       "      <td>0.343987</td>\n",
       "      <td>0.036419</td>\n",
       "    </tr>\n",
       "    <tr>\n",
       "      <th>https_token</th>\n",
       "      <td>0.363534</td>\n",
       "      <td>-0.089383</td>\n",
       "      <td>0.757838</td>\n",
       "      <td>0.104561</td>\n",
       "      <td>0.760799</td>\n",
       "      <td>-0.070153</td>\n",
       "      <td>-0.037239</td>\n",
       "      <td>-0.029941</td>\n",
       "      <td>0.059161</td>\n",
       "      <td>0.049483</td>\n",
       "      <td>...</td>\n",
       "      <td>0.066957</td>\n",
       "      <td>0.017509</td>\n",
       "      <td>-0.049632</td>\n",
       "      <td>0.395387</td>\n",
       "      <td>-0.039708</td>\n",
       "      <td>0.021104</td>\n",
       "      <td>0.115450</td>\n",
       "      <td>-0.128724</td>\n",
       "      <td>0.096187</td>\n",
       "      <td>-0.039854</td>\n",
       "    </tr>\n",
       "    <tr>\n",
       "      <th>requesr_url</th>\n",
       "      <td>0.029773</td>\n",
       "      <td>0.246348</td>\n",
       "      <td>-0.037235</td>\n",
       "      <td>0.027909</td>\n",
       "      <td>-0.026368</td>\n",
       "      <td>0.098675</td>\n",
       "      <td>0.104857</td>\n",
       "      <td>0.193054</td>\n",
       "      <td>-0.609970</td>\n",
       "      <td>-0.004620</td>\n",
       "      <td>...</td>\n",
       "      <td>-0.004622</td>\n",
       "      <td>0.016934</td>\n",
       "      <td>0.090455</td>\n",
       "      <td>0.015933</td>\n",
       "      <td>0.161166</td>\n",
       "      <td>0.055734</td>\n",
       "      <td>0.046409</td>\n",
       "      <td>-0.067109</td>\n",
       "      <td>0.035412</td>\n",
       "      <td>0.253372</td>\n",
       "    </tr>\n",
       "    <tr>\n",
       "      <th>url_anchor</th>\n",
       "      <td>0.099847</td>\n",
       "      <td>-0.023396</td>\n",
       "      <td>0.000561</td>\n",
       "      <td>0.057914</td>\n",
       "      <td>-0.005036</td>\n",
       "      <td>0.348871</td>\n",
       "      <td>0.229491</td>\n",
       "      <td>0.535786</td>\n",
       "      <td>-0.160257</td>\n",
       "      <td>0.037698</td>\n",
       "      <td>...</td>\n",
       "      <td>0.041150</td>\n",
       "      <td>0.013403</td>\n",
       "      <td>0.075508</td>\n",
       "      <td>0.093288</td>\n",
       "      <td>0.326293</td>\n",
       "      <td>0.099261</td>\n",
       "      <td>0.038816</td>\n",
       "      <td>0.018651</td>\n",
       "      <td>0.077377</td>\n",
       "      <td>0.692935</td>\n",
       "    </tr>\n",
       "    <tr>\n",
       "      <th>links_in_tags</th>\n",
       "      <td>0.006212</td>\n",
       "      <td>0.052869</td>\n",
       "      <td>-0.133379</td>\n",
       "      <td>-0.070861</td>\n",
       "      <td>-0.125583</td>\n",
       "      <td>0.100254</td>\n",
       "      <td>0.093646</td>\n",
       "      <td>0.176825</td>\n",
       "      <td>-0.101084</td>\n",
       "      <td>-0.100341</td>\n",
       "      <td>...</td>\n",
       "      <td>-0.112282</td>\n",
       "      <td>-0.070030</td>\n",
       "      <td>0.078057</td>\n",
       "      <td>-0.038545</td>\n",
       "      <td>0.064548</td>\n",
       "      <td>-0.006450</td>\n",
       "      <td>0.045557</td>\n",
       "      <td>0.013561</td>\n",
       "      <td>-0.087343</td>\n",
       "      <td>0.248229</td>\n",
       "    </tr>\n",
       "    <tr>\n",
       "      <th>sfh</th>\n",
       "      <td>-0.010962</td>\n",
       "      <td>0.414196</td>\n",
       "      <td>-0.022723</td>\n",
       "      <td>-0.008672</td>\n",
       "      <td>-0.041672</td>\n",
       "      <td>0.001326</td>\n",
       "      <td>0.096089</td>\n",
       "      <td>0.171402</td>\n",
       "      <td>-0.136422</td>\n",
       "      <td>-0.012279</td>\n",
       "      <td>...</td>\n",
       "      <td>-0.004863</td>\n",
       "      <td>0.007067</td>\n",
       "      <td>-0.015840</td>\n",
       "      <td>0.034440</td>\n",
       "      <td>0.052706</td>\n",
       "      <td>0.001979</td>\n",
       "      <td>0.027588</td>\n",
       "      <td>-0.009068</td>\n",
       "      <td>-0.005289</td>\n",
       "      <td>0.221419</td>\n",
       "    </tr>\n",
       "    <tr>\n",
       "      <th>email_submit</th>\n",
       "      <td>0.077989</td>\n",
       "      <td>-0.014457</td>\n",
       "      <td>0.049328</td>\n",
       "      <td>0.370123</td>\n",
       "      <td>0.031898</td>\n",
       "      <td>-0.045000</td>\n",
       "      <td>0.008830</td>\n",
       "      <td>0.008062</td>\n",
       "      <td>0.039260</td>\n",
       "      <td>0.668317</td>\n",
       "      <td>...</td>\n",
       "      <td>0.629462</td>\n",
       "      <td>0.577490</td>\n",
       "      <td>0.007357</td>\n",
       "      <td>0.064145</td>\n",
       "      <td>-0.015685</td>\n",
       "      <td>0.026208</td>\n",
       "      <td>-0.008378</td>\n",
       "      <td>-0.039956</td>\n",
       "      <td>0.352074</td>\n",
       "      <td>0.018249</td>\n",
       "    </tr>\n",
       "    <tr>\n",
       "      <th>abnormal_url</th>\n",
       "      <td>0.336549</td>\n",
       "      <td>-0.106761</td>\n",
       "      <td>0.739290</td>\n",
       "      <td>0.203945</td>\n",
       "      <td>0.723724</td>\n",
       "      <td>-0.077620</td>\n",
       "      <td>-0.034908</td>\n",
       "      <td>-0.046245</td>\n",
       "      <td>0.058109</td>\n",
       "      <td>0.071848</td>\n",
       "      <td>...</td>\n",
       "      <td>0.091188</td>\n",
       "      <td>0.017590</td>\n",
       "      <td>-0.032533</td>\n",
       "      <td>0.366833</td>\n",
       "      <td>-0.052416</td>\n",
       "      <td>0.007318</td>\n",
       "      <td>0.124751</td>\n",
       "      <td>-0.161027</td>\n",
       "      <td>0.186399</td>\n",
       "      <td>-0.060488</td>\n",
       "    </tr>\n",
       "    <tr>\n",
       "      <th>redirect</th>\n",
       "      <td>-0.321181</td>\n",
       "      <td>0.046832</td>\n",
       "      <td>-0.534530</td>\n",
       "      <td>-0.028160</td>\n",
       "      <td>-0.591478</td>\n",
       "      <td>0.016271</td>\n",
       "      <td>0.031206</td>\n",
       "      <td>-0.021070</td>\n",
       "      <td>-0.016300</td>\n",
       "      <td>-0.015621</td>\n",
       "      <td>...</td>\n",
       "      <td>-0.026327</td>\n",
       "      <td>-0.012668</td>\n",
       "      <td>-0.022476</td>\n",
       "      <td>-0.211096</td>\n",
       "      <td>0.004631</td>\n",
       "      <td>0.052867</td>\n",
       "      <td>0.057230</td>\n",
       "      <td>0.161278</td>\n",
       "      <td>-0.059194</td>\n",
       "      <td>-0.020113</td>\n",
       "    </tr>\n",
       "    <tr>\n",
       "      <th>on_mouseover</th>\n",
       "      <td>0.084059</td>\n",
       "      <td>-0.045103</td>\n",
       "      <td>0.062383</td>\n",
       "      <td>0.279697</td>\n",
       "      <td>0.086635</td>\n",
       "      <td>0.012578</td>\n",
       "      <td>-0.018082</td>\n",
       "      <td>0.023586</td>\n",
       "      <td>0.023784</td>\n",
       "      <td>0.706179</td>\n",
       "      <td>...</td>\n",
       "      <td>0.733629</td>\n",
       "      <td>0.659478</td>\n",
       "      <td>0.013306</td>\n",
       "      <td>0.087161</td>\n",
       "      <td>-0.036531</td>\n",
       "      <td>0.015634</td>\n",
       "      <td>-0.006510</td>\n",
       "      <td>-0.038551</td>\n",
       "      <td>0.277347</td>\n",
       "      <td>0.041838</td>\n",
       "    </tr>\n",
       "    <tr>\n",
       "      <th>right_click</th>\n",
       "      <td>0.042881</td>\n",
       "      <td>-0.013613</td>\n",
       "      <td>0.038118</td>\n",
       "      <td>0.219503</td>\n",
       "      <td>0.025863</td>\n",
       "      <td>-0.024868</td>\n",
       "      <td>0.018230</td>\n",
       "      <td>0.015854</td>\n",
       "      <td>0.023520</td>\n",
       "      <td>0.414382</td>\n",
       "      <td>...</td>\n",
       "      <td>0.415268</td>\n",
       "      <td>0.655863</td>\n",
       "      <td>0.006764</td>\n",
       "      <td>0.038255</td>\n",
       "      <td>-0.013594</td>\n",
       "      <td>0.025341</td>\n",
       "      <td>-0.008066</td>\n",
       "      <td>-0.119831</td>\n",
       "      <td>0.204409</td>\n",
       "      <td>0.012653</td>\n",
       "    </tr>\n",
       "    <tr>\n",
       "      <th>pop_up</th>\n",
       "      <td>0.096882</td>\n",
       "      <td>-0.049381</td>\n",
       "      <td>0.036616</td>\n",
       "      <td>0.290893</td>\n",
       "      <td>0.054463</td>\n",
       "      <td>-0.014733</td>\n",
       "      <td>-0.025312</td>\n",
       "      <td>-0.013005</td>\n",
       "      <td>0.051410</td>\n",
       "      <td>0.939633</td>\n",
       "      <td>...</td>\n",
       "      <td>1.000000</td>\n",
       "      <td>0.629406</td>\n",
       "      <td>-0.000948</td>\n",
       "      <td>0.098658</td>\n",
       "      <td>-0.043190</td>\n",
       "      <td>0.017114</td>\n",
       "      <td>-0.010256</td>\n",
       "      <td>-0.121325</td>\n",
       "      <td>0.285261</td>\n",
       "      <td>0.000086</td>\n",
       "    </tr>\n",
       "    <tr>\n",
       "      <th>iframe</th>\n",
       "      <td>0.054694</td>\n",
       "      <td>-0.013838</td>\n",
       "      <td>0.016581</td>\n",
       "      <td>0.284410</td>\n",
       "      <td>0.010459</td>\n",
       "      <td>-0.036904</td>\n",
       "      <td>0.010637</td>\n",
       "      <td>-0.002773</td>\n",
       "      <td>0.004393</td>\n",
       "      <td>0.627607</td>\n",
       "      <td>...</td>\n",
       "      <td>0.629406</td>\n",
       "      <td>1.000000</td>\n",
       "      <td>0.018848</td>\n",
       "      <td>0.047293</td>\n",
       "      <td>-0.022080</td>\n",
       "      <td>0.022407</td>\n",
       "      <td>-0.003519</td>\n",
       "      <td>-0.140824</td>\n",
       "      <td>0.268418</td>\n",
       "      <td>-0.003394</td>\n",
       "    </tr>\n",
       "    <tr>\n",
       "      <th>age_of_domain</th>\n",
       "      <td>-0.010446</td>\n",
       "      <td>0.179426</td>\n",
       "      <td>-0.052596</td>\n",
       "      <td>-0.005499</td>\n",
       "      <td>-0.050107</td>\n",
       "      <td>0.074116</td>\n",
       "      <td>0.119254</td>\n",
       "      <td>0.162809</td>\n",
       "      <td>-0.062851</td>\n",
       "      <td>-0.002628</td>\n",
       "      <td>...</td>\n",
       "      <td>-0.000948</td>\n",
       "      <td>0.018848</td>\n",
       "      <td>1.000000</td>\n",
       "      <td>-0.034082</td>\n",
       "      <td>0.089949</td>\n",
       "      <td>-0.147194</td>\n",
       "      <td>-0.028471</td>\n",
       "      <td>0.040407</td>\n",
       "      <td>0.009115</td>\n",
       "      <td>0.121496</td>\n",
       "    </tr>\n",
       "    <tr>\n",
       "      <th>dns_record</th>\n",
       "      <td>-0.050733</td>\n",
       "      <td>-0.040823</td>\n",
       "      <td>0.436064</td>\n",
       "      <td>-0.047872</td>\n",
       "      <td>0.431409</td>\n",
       "      <td>-0.016556</td>\n",
       "      <td>0.125493</td>\n",
       "      <td>0.050972</td>\n",
       "      <td>-0.010477</td>\n",
       "      <td>0.088211</td>\n",
       "      <td>...</td>\n",
       "      <td>0.098658</td>\n",
       "      <td>0.047293</td>\n",
       "      <td>-0.034082</td>\n",
       "      <td>1.000000</td>\n",
       "      <td>0.048650</td>\n",
       "      <td>0.137860</td>\n",
       "      <td>0.137509</td>\n",
       "      <td>-0.318266</td>\n",
       "      <td>0.136860</td>\n",
       "      <td>0.075718</td>\n",
       "    </tr>\n",
       "    <tr>\n",
       "      <th>web_traffic</th>\n",
       "      <td>0.002922</td>\n",
       "      <td>0.008993</td>\n",
       "      <td>-0.047074</td>\n",
       "      <td>0.032918</td>\n",
       "      <td>-0.062369</td>\n",
       "      <td>0.110598</td>\n",
       "      <td>-0.005764</td>\n",
       "      <td>0.258768</td>\n",
       "      <td>-0.134454</td>\n",
       "      <td>-0.050922</td>\n",
       "      <td>...</td>\n",
       "      <td>-0.043190</td>\n",
       "      <td>-0.022080</td>\n",
       "      <td>0.089949</td>\n",
       "      <td>0.048650</td>\n",
       "      <td>1.000000</td>\n",
       "      <td>0.030984</td>\n",
       "      <td>-0.012584</td>\n",
       "      <td>-0.019860</td>\n",
       "      <td>0.009223</td>\n",
       "      <td>0.346103</td>\n",
       "    </tr>\n",
       "    <tr>\n",
       "      <th>page_rank</th>\n",
       "      <td>-0.091774</td>\n",
       "      <td>0.183518</td>\n",
       "      <td>0.014591</td>\n",
       "      <td>-0.064735</td>\n",
       "      <td>-0.003132</td>\n",
       "      <td>-0.006834</td>\n",
       "      <td>0.120730</td>\n",
       "      <td>0.074545</td>\n",
       "      <td>-0.059898</td>\n",
       "      <td>0.011699</td>\n",
       "      <td>...</td>\n",
       "      <td>0.017114</td>\n",
       "      <td>0.022407</td>\n",
       "      <td>-0.147194</td>\n",
       "      <td>0.137860</td>\n",
       "      <td>0.030984</td>\n",
       "      <td>1.000000</td>\n",
       "      <td>0.032431</td>\n",
       "      <td>-0.028216</td>\n",
       "      <td>0.031049</td>\n",
       "      <td>0.104645</td>\n",
       "    </tr>\n",
       "    <tr>\n",
       "      <th>google_index</th>\n",
       "      <td>0.029153</td>\n",
       "      <td>0.002902</td>\n",
       "      <td>0.155844</td>\n",
       "      <td>0.037061</td>\n",
       "      <td>0.178415</td>\n",
       "      <td>0.067781</td>\n",
       "      <td>0.057673</td>\n",
       "      <td>0.096051</td>\n",
       "      <td>-0.039766</td>\n",
       "      <td>-0.016668</td>\n",
       "      <td>...</td>\n",
       "      <td>-0.010256</td>\n",
       "      <td>-0.003519</td>\n",
       "      <td>-0.028471</td>\n",
       "      <td>0.137509</td>\n",
       "      <td>-0.012584</td>\n",
       "      <td>0.032431</td>\n",
       "      <td>1.000000</td>\n",
       "      <td>-0.038777</td>\n",
       "      <td>-0.005103</td>\n",
       "      <td>0.128950</td>\n",
       "    </tr>\n",
       "    <tr>\n",
       "      <th>Links_pointing_to_page</th>\n",
       "      <td>-0.339065</td>\n",
       "      <td>-0.022987</td>\n",
       "      <td>-0.198410</td>\n",
       "      <td>-0.006080</td>\n",
       "      <td>-0.194165</td>\n",
       "      <td>0.067423</td>\n",
       "      <td>-0.010526</td>\n",
       "      <td>-0.011710</td>\n",
       "      <td>0.122672</td>\n",
       "      <td>-0.127243</td>\n",
       "      <td>...</td>\n",
       "      <td>-0.121325</td>\n",
       "      <td>-0.140824</td>\n",
       "      <td>0.040407</td>\n",
       "      <td>-0.318266</td>\n",
       "      <td>-0.019860</td>\n",
       "      <td>-0.028216</td>\n",
       "      <td>-0.038777</td>\n",
       "      <td>1.000000</td>\n",
       "      <td>-0.016817</td>\n",
       "      <td>0.032574</td>\n",
       "    </tr>\n",
       "    <tr>\n",
       "      <th>statistical_report</th>\n",
       "      <td>-0.019103</td>\n",
       "      <td>-0.067153</td>\n",
       "      <td>0.085461</td>\n",
       "      <td>-0.080357</td>\n",
       "      <td>0.070390</td>\n",
       "      <td>-0.002763</td>\n",
       "      <td>0.081627</td>\n",
       "      <td>0.063411</td>\n",
       "      <td>-0.002212</td>\n",
       "      <td>0.300917</td>\n",
       "      <td>...</td>\n",
       "      <td>0.285261</td>\n",
       "      <td>0.268418</td>\n",
       "      <td>0.009115</td>\n",
       "      <td>0.136860</td>\n",
       "      <td>0.009223</td>\n",
       "      <td>0.031049</td>\n",
       "      <td>-0.005103</td>\n",
       "      <td>-0.016817</td>\n",
       "      <td>1.000000</td>\n",
       "      <td>0.079857</td>\n",
       "    </tr>\n",
       "    <tr>\n",
       "      <th>result</th>\n",
       "      <td>0.094160</td>\n",
       "      <td>0.057430</td>\n",
       "      <td>-0.067966</td>\n",
       "      <td>0.052948</td>\n",
       "      <td>-0.038608</td>\n",
       "      <td>0.348606</td>\n",
       "      <td>0.298323</td>\n",
       "      <td>0.714741</td>\n",
       "      <td>-0.225789</td>\n",
       "      <td>-0.000280</td>\n",
       "      <td>...</td>\n",
       "      <td>0.000086</td>\n",
       "      <td>-0.003394</td>\n",
       "      <td>0.121496</td>\n",
       "      <td>0.075718</td>\n",
       "      <td>0.346103</td>\n",
       "      <td>0.104645</td>\n",
       "      <td>0.128950</td>\n",
       "      <td>0.032574</td>\n",
       "      <td>0.079857</td>\n",
       "      <td>1.000000</td>\n",
       "    </tr>\n",
       "  </tbody>\n",
       "</table>\n",
       "<p>31 rows × 31 columns</p>\n",
       "</div>"
      ],
      "text/plain": [
       "                             ip_address  url_length  tiny_url  \\\n",
       "ip_address                     1.000000   -0.052411  0.403461   \n",
       "url_length                    -0.052411    1.000000 -0.097881   \n",
       "tiny_url                       0.403461   -0.097881  1.000000   \n",
       "having_at_symbol               0.158699   -0.075108  0.104447   \n",
       "double_slash                   0.397389   -0.081247  0.842796   \n",
       "Prefix_Suffix                 -0.005257    0.055247 -0.080471   \n",
       "sub_domain                    -0.080745    0.003997 -0.041916   \n",
       "ssl_state                      0.071414    0.048754 -0.061426   \n",
       "domain_registeration_length   -0.022739   -0.221892  0.060923   \n",
       "favicon                        0.087025   -0.042497  0.006101   \n",
       "port                           0.060979    0.000323  0.002201   \n",
       "https_token                    0.363534   -0.089383  0.757838   \n",
       "requesr_url                    0.029773    0.246348 -0.037235   \n",
       "url_anchor                     0.099847   -0.023396  0.000561   \n",
       "links_in_tags                  0.006212    0.052869 -0.133379   \n",
       "sfh                           -0.010962    0.414196 -0.022723   \n",
       "email_submit                   0.077989   -0.014457  0.049328   \n",
       "abnormal_url                   0.336549   -0.106761  0.739290   \n",
       "redirect                      -0.321181    0.046832 -0.534530   \n",
       "on_mouseover                   0.084059   -0.045103  0.062383   \n",
       "right_click                    0.042881   -0.013613  0.038118   \n",
       "pop_up                         0.096882   -0.049381  0.036616   \n",
       "iframe                         0.054694   -0.013838  0.016581   \n",
       "age_of_domain                 -0.010446    0.179426 -0.052596   \n",
       "dns_record                    -0.050733   -0.040823  0.436064   \n",
       "web_traffic                    0.002922    0.008993 -0.047074   \n",
       "page_rank                     -0.091774    0.183518  0.014591   \n",
       "google_index                   0.029153    0.002902  0.155844   \n",
       "Links_pointing_to_page        -0.339065   -0.022987 -0.198410   \n",
       "statistical_report            -0.019103   -0.067153  0.085461   \n",
       "result                         0.094160    0.057430 -0.067966   \n",
       "\n",
       "                             having_at_symbol  double_slash  Prefix_Suffix  \\\n",
       "ip_address                           0.158699      0.397389      -0.005257   \n",
       "url_length                          -0.075108     -0.081247       0.055247   \n",
       "tiny_url                             0.104447      0.842796      -0.080471   \n",
       "having_at_symbol                     1.000000      0.086960      -0.011726   \n",
       "double_slash                         0.086960      1.000000      -0.085590   \n",
       "Prefix_Suffix                       -0.011726     -0.085590       1.000000   \n",
       "sub_domain                          -0.058976     -0.043079       0.087891   \n",
       "ssl_state                            0.031220     -0.036200       0.261391   \n",
       "domain_registeration_length          0.015522      0.047464      -0.096799   \n",
       "favicon                              0.304899      0.035100      -0.007504   \n",
       "port                                 0.364891      0.025060      -0.022546   \n",
       "https_token                          0.104561      0.760799      -0.070153   \n",
       "requesr_url                          0.027909     -0.026368       0.098675   \n",
       "url_anchor                           0.057914     -0.005036       0.348871   \n",
       "links_in_tags                       -0.070861     -0.125583       0.100254   \n",
       "sfh                                 -0.008672     -0.041672       0.001326   \n",
       "email_submit                         0.370123      0.031898      -0.045000   \n",
       "abnormal_url                         0.203945      0.723724      -0.077620   \n",
       "redirect                            -0.028160     -0.591478       0.016271   \n",
       "on_mouseover                         0.279697      0.086635       0.012578   \n",
       "right_click                          0.219503      0.025863      -0.024868   \n",
       "pop_up                               0.290893      0.054463      -0.014733   \n",
       "iframe                               0.284410      0.010459      -0.036904   \n",
       "age_of_domain                       -0.005499     -0.050107       0.074116   \n",
       "dns_record                          -0.047872      0.431409      -0.016556   \n",
       "web_traffic                          0.032918     -0.062369       0.110598   \n",
       "page_rank                           -0.064735     -0.003132      -0.006834   \n",
       "google_index                         0.037061      0.178415       0.067781   \n",
       "Links_pointing_to_page              -0.006080     -0.194165       0.067423   \n",
       "statistical_report                  -0.080357      0.070390      -0.002763   \n",
       "result                               0.052948     -0.038608       0.348606   \n",
       "\n",
       "                             sub_domain  ssl_state  \\\n",
       "ip_address                    -0.080745   0.071414   \n",
       "url_length                     0.003997   0.048754   \n",
       "tiny_url                      -0.041916  -0.061426   \n",
       "having_at_symbol              -0.058976   0.031220   \n",
       "double_slash                  -0.043079  -0.036200   \n",
       "Prefix_Suffix                  0.087891   0.261391   \n",
       "sub_domain                     1.000000   0.267649   \n",
       "ssl_state                      0.267649   1.000000   \n",
       "domain_registeration_length   -0.082839  -0.193622   \n",
       "favicon                       -0.016704  -0.014757   \n",
       "port                           0.004863   0.027473   \n",
       "https_token                   -0.037239  -0.029941   \n",
       "requesr_url                    0.104857   0.193054   \n",
       "url_anchor                     0.229491   0.535786   \n",
       "links_in_tags                  0.093646   0.176825   \n",
       "sfh                            0.096089   0.171402   \n",
       "email_submit                   0.008830   0.008062   \n",
       "abnormal_url                  -0.034908  -0.046245   \n",
       "redirect                       0.031206  -0.021070   \n",
       "on_mouseover                  -0.018082   0.023586   \n",
       "right_click                    0.018230   0.015854   \n",
       "pop_up                        -0.025312  -0.013005   \n",
       "iframe                         0.010637  -0.002773   \n",
       "age_of_domain                  0.119254   0.162809   \n",
       "dns_record                     0.125493   0.050972   \n",
       "web_traffic                   -0.005764   0.258768   \n",
       "page_rank                      0.120730   0.074545   \n",
       "google_index                   0.057673   0.096051   \n",
       "Links_pointing_to_page        -0.010526  -0.011710   \n",
       "statistical_report             0.081627   0.063411   \n",
       "result                         0.298323   0.714741   \n",
       "\n",
       "                             domain_registeration_length   favicon    ...     \\\n",
       "ip_address                                     -0.022739  0.087025    ...      \n",
       "url_length                                     -0.221892 -0.042497    ...      \n",
       "tiny_url                                        0.060923  0.006101    ...      \n",
       "having_at_symbol                                0.015522  0.304899    ...      \n",
       "double_slash                                    0.047464  0.035100    ...      \n",
       "Prefix_Suffix                                  -0.096799 -0.007504    ...      \n",
       "sub_domain                                     -0.082839 -0.016704    ...      \n",
       "ssl_state                                      -0.193622 -0.014757    ...      \n",
       "domain_registeration_length                     1.000000  0.054253    ...      \n",
       "favicon                                         0.054253  1.000000    ...      \n",
       "port                                            0.022478  0.803834    ...      \n",
       "https_token                                     0.059161  0.049483    ...      \n",
       "requesr_url                                    -0.609970 -0.004620    ...      \n",
       "url_anchor                                     -0.160257  0.037698    ...      \n",
       "links_in_tags                                  -0.101084 -0.100341    ...      \n",
       "sfh                                            -0.136422 -0.012279    ...      \n",
       "email_submit                                    0.039260  0.668317    ...      \n",
       "abnormal_url                                    0.058109  0.071848    ...      \n",
       "redirect                                       -0.016300 -0.015621    ...      \n",
       "on_mouseover                                    0.023784  0.706179    ...      \n",
       "right_click                                     0.023520  0.414382    ...      \n",
       "pop_up                                          0.051410  0.939633    ...      \n",
       "iframe                                          0.004393  0.627607    ...      \n",
       "age_of_domain                                  -0.062851 -0.002628    ...      \n",
       "dns_record                                     -0.010477  0.088211    ...      \n",
       "web_traffic                                    -0.134454 -0.050922    ...      \n",
       "page_rank                                      -0.059898  0.011699    ...      \n",
       "google_index                                   -0.039766 -0.016668    ...      \n",
       "Links_pointing_to_page                          0.122672 -0.127243    ...      \n",
       "statistical_report                             -0.002212  0.300917    ...      \n",
       "result                                         -0.225789 -0.000280    ...      \n",
       "\n",
       "                               pop_up    iframe  age_of_domain  dns_record  \\\n",
       "ip_address                   0.096882  0.054694      -0.010446   -0.050733   \n",
       "url_length                  -0.049381 -0.013838       0.179426   -0.040823   \n",
       "tiny_url                     0.036616  0.016581      -0.052596    0.436064   \n",
       "having_at_symbol             0.290893  0.284410      -0.005499   -0.047872   \n",
       "double_slash                 0.054463  0.010459      -0.050107    0.431409   \n",
       "Prefix_Suffix               -0.014733 -0.036904       0.074116   -0.016556   \n",
       "sub_domain                  -0.025312  0.010637       0.119254    0.125493   \n",
       "ssl_state                   -0.013005 -0.002773       0.162809    0.050972   \n",
       "domain_registeration_length  0.051410  0.004393      -0.062851   -0.010477   \n",
       "favicon                      0.939633  0.627607      -0.002628    0.088211   \n",
       "port                         0.748517  0.687044       0.008459    0.054849   \n",
       "https_token                  0.066957  0.017509      -0.049632    0.395387   \n",
       "requesr_url                 -0.004622  0.016934       0.090455    0.015933   \n",
       "url_anchor                   0.041150  0.013403       0.075508    0.093288   \n",
       "links_in_tags               -0.112282 -0.070030       0.078057   -0.038545   \n",
       "sfh                         -0.004863  0.007067      -0.015840    0.034440   \n",
       "email_submit                 0.629462  0.577490       0.007357    0.064145   \n",
       "abnormal_url                 0.091188  0.017590      -0.032533    0.366833   \n",
       "redirect                    -0.026327 -0.012668      -0.022476   -0.211096   \n",
       "on_mouseover                 0.733629  0.659478       0.013306    0.087161   \n",
       "right_click                  0.415268  0.655863       0.006764    0.038255   \n",
       "pop_up                       1.000000  0.629406      -0.000948    0.098658   \n",
       "iframe                       0.629406  1.000000       0.018848    0.047293   \n",
       "age_of_domain               -0.000948  0.018848       1.000000   -0.034082   \n",
       "dns_record                   0.098658  0.047293      -0.034082    1.000000   \n",
       "web_traffic                 -0.043190 -0.022080       0.089949    0.048650   \n",
       "page_rank                    0.017114  0.022407      -0.147194    0.137860   \n",
       "google_index                -0.010256 -0.003519      -0.028471    0.137509   \n",
       "Links_pointing_to_page      -0.121325 -0.140824       0.040407   -0.318266   \n",
       "statistical_report           0.285261  0.268418       0.009115    0.136860   \n",
       "result                       0.000086 -0.003394       0.121496    0.075718   \n",
       "\n",
       "                             web_traffic  page_rank  google_index  \\\n",
       "ip_address                      0.002922  -0.091774      0.029153   \n",
       "url_length                      0.008993   0.183518      0.002902   \n",
       "tiny_url                       -0.047074   0.014591      0.155844   \n",
       "having_at_symbol                0.032918  -0.064735      0.037061   \n",
       "double_slash                   -0.062369  -0.003132      0.178415   \n",
       "Prefix_Suffix                   0.110598  -0.006834      0.067781   \n",
       "sub_domain                     -0.005764   0.120730      0.057673   \n",
       "ssl_state                       0.258768   0.074545      0.096051   \n",
       "domain_registeration_length    -0.134454  -0.059898     -0.039766   \n",
       "favicon                        -0.050922   0.011699     -0.016668   \n",
       "port                           -0.028543   0.017954     -0.005413   \n",
       "https_token                    -0.039708   0.021104      0.115450   \n",
       "requesr_url                     0.161166   0.055734      0.046409   \n",
       "url_anchor                      0.326293   0.099261      0.038816   \n",
       "links_in_tags                   0.064548  -0.006450      0.045557   \n",
       "sfh                             0.052706   0.001979      0.027588   \n",
       "email_submit                   -0.015685   0.026208     -0.008378   \n",
       "abnormal_url                   -0.052416   0.007318      0.124751   \n",
       "redirect                        0.004631   0.052867      0.057230   \n",
       "on_mouseover                   -0.036531   0.015634     -0.006510   \n",
       "right_click                    -0.013594   0.025341     -0.008066   \n",
       "pop_up                         -0.043190   0.017114     -0.010256   \n",
       "iframe                         -0.022080   0.022407     -0.003519   \n",
       "age_of_domain                   0.089949  -0.147194     -0.028471   \n",
       "dns_record                      0.048650   0.137860      0.137509   \n",
       "web_traffic                     1.000000   0.030984     -0.012584   \n",
       "page_rank                       0.030984   1.000000      0.032431   \n",
       "google_index                   -0.012584   0.032431      1.000000   \n",
       "Links_pointing_to_page         -0.019860  -0.028216     -0.038777   \n",
       "statistical_report              0.009223   0.031049     -0.005103   \n",
       "result                          0.346103   0.104645      0.128950   \n",
       "\n",
       "                             Links_pointing_to_page  statistical_report  \\\n",
       "ip_address                                -0.339065           -0.019103   \n",
       "url_length                                -0.022987           -0.067153   \n",
       "tiny_url                                  -0.198410            0.085461   \n",
       "having_at_symbol                          -0.006080           -0.080357   \n",
       "double_slash                              -0.194165            0.070390   \n",
       "Prefix_Suffix                              0.067423           -0.002763   \n",
       "sub_domain                                -0.010526            0.081627   \n",
       "ssl_state                                 -0.011710            0.063411   \n",
       "domain_registeration_length                0.122672           -0.002212   \n",
       "favicon                                   -0.127243            0.300917   \n",
       "port                                      -0.139104            0.343987   \n",
       "https_token                               -0.128724            0.096187   \n",
       "requesr_url                               -0.067109            0.035412   \n",
       "url_anchor                                 0.018651            0.077377   \n",
       "links_in_tags                              0.013561           -0.087343   \n",
       "sfh                                       -0.009068           -0.005289   \n",
       "email_submit                              -0.039956            0.352074   \n",
       "abnormal_url                              -0.161027            0.186399   \n",
       "redirect                                   0.161278           -0.059194   \n",
       "on_mouseover                              -0.038551            0.277347   \n",
       "right_click                               -0.119831            0.204409   \n",
       "pop_up                                    -0.121325            0.285261   \n",
       "iframe                                    -0.140824            0.268418   \n",
       "age_of_domain                              0.040407            0.009115   \n",
       "dns_record                                -0.318266            0.136860   \n",
       "web_traffic                               -0.019860            0.009223   \n",
       "page_rank                                 -0.028216            0.031049   \n",
       "google_index                              -0.038777           -0.005103   \n",
       "Links_pointing_to_page                     1.000000           -0.016817   \n",
       "statistical_report                        -0.016817            1.000000   \n",
       "result                                     0.032574            0.079857   \n",
       "\n",
       "                               result  \n",
       "ip_address                   0.094160  \n",
       "url_length                   0.057430  \n",
       "tiny_url                    -0.067966  \n",
       "having_at_symbol             0.052948  \n",
       "double_slash                -0.038608  \n",
       "Prefix_Suffix                0.348606  \n",
       "sub_domain                   0.298323  \n",
       "ssl_state                    0.714741  \n",
       "domain_registeration_length -0.225789  \n",
       "favicon                     -0.000280  \n",
       "port                         0.036419  \n",
       "https_token                 -0.039854  \n",
       "requesr_url                  0.253372  \n",
       "url_anchor                   0.692935  \n",
       "links_in_tags                0.248229  \n",
       "sfh                          0.221419  \n",
       "email_submit                 0.018249  \n",
       "abnormal_url                -0.060488  \n",
       "redirect                    -0.020113  \n",
       "on_mouseover                 0.041838  \n",
       "right_click                  0.012653  \n",
       "pop_up                       0.000086  \n",
       "iframe                      -0.003394  \n",
       "age_of_domain                0.121496  \n",
       "dns_record                   0.075718  \n",
       "web_traffic                  0.346103  \n",
       "page_rank                    0.104645  \n",
       "google_index                 0.128950  \n",
       "Links_pointing_to_page       0.032574  \n",
       "statistical_report           0.079857  \n",
       "result                       1.000000  \n",
       "\n",
       "[31 rows x 31 columns]"
      ]
     },
     "execution_count": 414,
     "metadata": {},
     "output_type": "execute_result"
    }
   ],
   "source": [
    "df.corr()"
   ]
  },
  {
   "cell_type": "code",
   "execution_count": 125,
   "metadata": {},
   "outputs": [],
   "source": [
    "feature_column_names = [ 'url_length','having_at_symbol','double_slash','https_token','ip_address', 'tiny_url', \n",
    "    'email_submit','ssl_state','redirect','domain_registeration_length','Prefix_Suffix','sub_domain','age_of_domain','result']\n",
    "\n",
    "df = df[feature_column_names]\n",
    "test_size = 0.2\n",
    "X = df.drop('result',axis=1)\n",
    "y = df['result']\n"
   ]
  },
  {
   "cell_type": "code",
   "execution_count": 126,
   "metadata": {
    "collapsed": true
   },
   "outputs": [],
   "source": [
    "from sklearn.model_selection import train_test_split"
   ]
  },
  {
   "cell_type": "code",
   "execution_count": 127,
   "metadata": {
    "collapsed": true
   },
   "outputs": [],
   "source": [
    "X_train,X_test,y_train,y_test = train_test_split(X,y, test_size=0.1,shuffle=True)"
   ]
  },
  {
   "cell_type": "code",
   "execution_count": 128,
   "metadata": {},
   "outputs": [],
   "source": [
    "X_train = np.array(X_train)\n",
    "y_train = np.array(y_train)\n",
    "X_test = np.array(X_test)\n",
    "y_test = np.array(y_test)"
   ]
  },
  {
   "cell_type": "code",
   "execution_count": 129,
   "metadata": {},
   "outputs": [
    {
     "data": {
      "text/plain": [
       "(9949, 13)"
      ]
     },
     "execution_count": 129,
     "metadata": {},
     "output_type": "execute_result"
    }
   ],
   "source": [
    "X_train.shape"
   ]
  },
  {
   "cell_type": "code",
   "execution_count": 130,
   "metadata": {
    "collapsed": true
   },
   "outputs": [],
   "source": [
    "from sklearn.ensemble import RandomForestClassifier\n",
    "import numpy as np\n",
    "from sklearn.metrics import accuracy_score\n"
   ]
  },
  {
   "cell_type": "code",
   "execution_count": 133,
   "metadata": {
    "collapsed": true
   },
   "outputs": [],
   "source": [
    "clf = RandomForestClassifier(random_state=5,n_estimators=400)"
   ]
  },
  {
   "cell_type": "code",
   "execution_count": 134,
   "metadata": {},
   "outputs": [
    {
     "data": {
      "text/plain": [
       "RandomForestClassifier(bootstrap=True, class_weight=None, criterion='gini',\n",
       "            max_depth=None, max_features='auto', max_leaf_nodes=None,\n",
       "            min_impurity_decrease=0.0, min_impurity_split=None,\n",
       "            min_samples_leaf=1, min_samples_split=2,\n",
       "            min_weight_fraction_leaf=0.0, n_estimators=400, n_jobs=1,\n",
       "            oob_score=False, random_state=5, verbose=0, warm_start=False)"
      ]
     },
     "execution_count": 134,
     "metadata": {},
     "output_type": "execute_result"
    }
   ],
   "source": [
    "clf.fit(X_train, y_train)"
   ]
  },
  {
   "cell_type": "code",
   "execution_count": 135,
   "metadata": {
    "collapsed": true
   },
   "outputs": [],
   "source": [
    "y_pred = clf.predict(X_test)"
   ]
  },
  {
   "cell_type": "code",
   "execution_count": 141,
   "metadata": {},
   "outputs": [
    {
     "data": {
      "text/plain": [
       "array([[ 0.96,  0.04]])"
      ]
     },
     "execution_count": 141,
     "metadata": {},
     "output_type": "execute_result"
    }
   ],
   "source": [
    "\n",
    "a = np.array([[1, -1, -1, 1, -1, -1, -1, -1, 1, -1, -1, 0,-1]])\n",
    "y_predica = clf.predict_proba(a)\n",
    "y_predica\n"
   ]
  },
  {
   "cell_type": "code",
   "execution_count": 136,
   "metadata": {},
   "outputs": [
    {
     "data": {
      "text/plain": [
       "0.91952983725135629"
      ]
     },
     "execution_count": 136,
     "metadata": {},
     "output_type": "execute_result"
    }
   ],
   "source": [
    "accuracy_score(y_test, y_pred)"
   ]
  },
  {
   "cell_type": "code",
   "execution_count": 19,
   "metadata": {},
   "outputs": [
    {
     "data": {
      "text/plain": [
       "-1    8960\n",
       " 1    1960\n",
       " 0     135\n",
       "Name: url_length, dtype: int64"
      ]
     },
     "execution_count": 19,
     "metadata": {},
     "output_type": "execute_result"
    }
   ],
   "source": [
    "df.url_length.value_counts()"
   ]
  },
  {
   "cell_type": "code",
   "execution_count": 50,
   "metadata": {
    "collapsed": true
   },
   "outputs": [],
   "source": [
    "import requests"
   ]
  },
  {
   "cell_type": "code",
   "execution_count": 57,
   "metadata": {
    "collapsed": true
   },
   "outputs": [],
   "source": [
    "\n",
    "sup_url = 'https://www.google.com'\n",
    "payload = {'url':sup_url,'format':'json'}\n",
    "url_post ='http://checkurl.phishtank.com/checkurl/'"
   ]
  },
  {
   "cell_type": "code",
   "execution_count": 59,
   "metadata": {},
   "outputs": [
    {
     "ename": "ConnectionError",
     "evalue": "HTTPConnectionPool(host='checkurl.phishtank.com', port=80): Max retries exceeded with url: /checkurl/ (Caused by NewConnectionError('<urllib3.connection.HTTPConnection object at 0x7efd02d7feb8>: Failed to establish a new connection: [Errno -2] Name or service not known',))",
     "output_type": "error",
     "traceback": [
      "\u001b[0;31m---------------------------------------------------------------------------\u001b[0m",
      "\u001b[0;31mgaierror\u001b[0m                                  Traceback (most recent call last)",
      "\u001b[0;32m~/anaconda3/lib/python3.6/site-packages/urllib3/connection.py\u001b[0m in \u001b[0;36m_new_conn\u001b[0;34m(self)\u001b[0m\n\u001b[1;32m    140\u001b[0m             conn = connection.create_connection(\n\u001b[0;32m--> 141\u001b[0;31m                 (self.host, self.port), self.timeout, **extra_kw)\n\u001b[0m\u001b[1;32m    142\u001b[0m \u001b[0;34m\u001b[0m\u001b[0m\n",
      "\u001b[0;32m~/anaconda3/lib/python3.6/site-packages/urllib3/util/connection.py\u001b[0m in \u001b[0;36mcreate_connection\u001b[0;34m(address, timeout, source_address, socket_options)\u001b[0m\n\u001b[1;32m     59\u001b[0m \u001b[0;34m\u001b[0m\u001b[0m\n\u001b[0;32m---> 60\u001b[0;31m     \u001b[0;32mfor\u001b[0m \u001b[0mres\u001b[0m \u001b[0;32min\u001b[0m \u001b[0msocket\u001b[0m\u001b[0;34m.\u001b[0m\u001b[0mgetaddrinfo\u001b[0m\u001b[0;34m(\u001b[0m\u001b[0mhost\u001b[0m\u001b[0;34m,\u001b[0m \u001b[0mport\u001b[0m\u001b[0;34m,\u001b[0m \u001b[0mfamily\u001b[0m\u001b[0;34m,\u001b[0m \u001b[0msocket\u001b[0m\u001b[0;34m.\u001b[0m\u001b[0mSOCK_STREAM\u001b[0m\u001b[0;34m)\u001b[0m\u001b[0;34m:\u001b[0m\u001b[0;34m\u001b[0m\u001b[0m\n\u001b[0m\u001b[1;32m     61\u001b[0m         \u001b[0maf\u001b[0m\u001b[0;34m,\u001b[0m \u001b[0msocktype\u001b[0m\u001b[0;34m,\u001b[0m \u001b[0mproto\u001b[0m\u001b[0;34m,\u001b[0m \u001b[0mcanonname\u001b[0m\u001b[0;34m,\u001b[0m \u001b[0msa\u001b[0m \u001b[0;34m=\u001b[0m \u001b[0mres\u001b[0m\u001b[0;34m\u001b[0m\u001b[0m\n",
      "\u001b[0;32m~/anaconda3/lib/python3.6/socket.py\u001b[0m in \u001b[0;36mgetaddrinfo\u001b[0;34m(host, port, family, type, proto, flags)\u001b[0m\n\u001b[1;32m    744\u001b[0m     \u001b[0maddrlist\u001b[0m \u001b[0;34m=\u001b[0m \u001b[0;34m[\u001b[0m\u001b[0;34m]\u001b[0m\u001b[0;34m\u001b[0m\u001b[0m\n\u001b[0;32m--> 745\u001b[0;31m     \u001b[0;32mfor\u001b[0m \u001b[0mres\u001b[0m \u001b[0;32min\u001b[0m \u001b[0m_socket\u001b[0m\u001b[0;34m.\u001b[0m\u001b[0mgetaddrinfo\u001b[0m\u001b[0;34m(\u001b[0m\u001b[0mhost\u001b[0m\u001b[0;34m,\u001b[0m \u001b[0mport\u001b[0m\u001b[0;34m,\u001b[0m \u001b[0mfamily\u001b[0m\u001b[0;34m,\u001b[0m \u001b[0mtype\u001b[0m\u001b[0;34m,\u001b[0m \u001b[0mproto\u001b[0m\u001b[0;34m,\u001b[0m \u001b[0mflags\u001b[0m\u001b[0;34m)\u001b[0m\u001b[0;34m:\u001b[0m\u001b[0;34m\u001b[0m\u001b[0m\n\u001b[0m\u001b[1;32m    746\u001b[0m         \u001b[0maf\u001b[0m\u001b[0;34m,\u001b[0m \u001b[0msocktype\u001b[0m\u001b[0;34m,\u001b[0m \u001b[0mproto\u001b[0m\u001b[0;34m,\u001b[0m \u001b[0mcanonname\u001b[0m\u001b[0;34m,\u001b[0m \u001b[0msa\u001b[0m \u001b[0;34m=\u001b[0m \u001b[0mres\u001b[0m\u001b[0;34m\u001b[0m\u001b[0m\n",
      "\u001b[0;31mgaierror\u001b[0m: [Errno -2] Name or service not known",
      "\nDuring handling of the above exception, another exception occurred:\n",
      "\u001b[0;31mNewConnectionError\u001b[0m                        Traceback (most recent call last)",
      "\u001b[0;32m~/anaconda3/lib/python3.6/site-packages/urllib3/connectionpool.py\u001b[0m in \u001b[0;36murlopen\u001b[0;34m(self, method, url, body, headers, retries, redirect, assert_same_host, timeout, pool_timeout, release_conn, chunked, body_pos, **response_kw)\u001b[0m\n\u001b[1;32m    600\u001b[0m                                                   \u001b[0mbody\u001b[0m\u001b[0;34m=\u001b[0m\u001b[0mbody\u001b[0m\u001b[0;34m,\u001b[0m \u001b[0mheaders\u001b[0m\u001b[0;34m=\u001b[0m\u001b[0mheaders\u001b[0m\u001b[0;34m,\u001b[0m\u001b[0;34m\u001b[0m\u001b[0m\n\u001b[0;32m--> 601\u001b[0;31m                                                   chunked=chunked)\n\u001b[0m\u001b[1;32m    602\u001b[0m \u001b[0;34m\u001b[0m\u001b[0m\n",
      "\u001b[0;32m~/anaconda3/lib/python3.6/site-packages/urllib3/connectionpool.py\u001b[0m in \u001b[0;36m_make_request\u001b[0;34m(self, conn, method, url, timeout, chunked, **httplib_request_kw)\u001b[0m\n\u001b[1;32m    356\u001b[0m         \u001b[0;32melse\u001b[0m\u001b[0;34m:\u001b[0m\u001b[0;34m\u001b[0m\u001b[0m\n\u001b[0;32m--> 357\u001b[0;31m             \u001b[0mconn\u001b[0m\u001b[0;34m.\u001b[0m\u001b[0mrequest\u001b[0m\u001b[0;34m(\u001b[0m\u001b[0mmethod\u001b[0m\u001b[0;34m,\u001b[0m \u001b[0murl\u001b[0m\u001b[0;34m,\u001b[0m \u001b[0;34m**\u001b[0m\u001b[0mhttplib_request_kw\u001b[0m\u001b[0;34m)\u001b[0m\u001b[0;34m\u001b[0m\u001b[0m\n\u001b[0m\u001b[1;32m    358\u001b[0m \u001b[0;34m\u001b[0m\u001b[0m\n",
      "\u001b[0;32m~/anaconda3/lib/python3.6/http/client.py\u001b[0m in \u001b[0;36mrequest\u001b[0;34m(self, method, url, body, headers, encode_chunked)\u001b[0m\n\u001b[1;32m   1238\u001b[0m         \u001b[0;34m\"\"\"Send a complete request to the server.\"\"\"\u001b[0m\u001b[0;34m\u001b[0m\u001b[0m\n\u001b[0;32m-> 1239\u001b[0;31m         \u001b[0mself\u001b[0m\u001b[0;34m.\u001b[0m\u001b[0m_send_request\u001b[0m\u001b[0;34m(\u001b[0m\u001b[0mmethod\u001b[0m\u001b[0;34m,\u001b[0m \u001b[0murl\u001b[0m\u001b[0;34m,\u001b[0m \u001b[0mbody\u001b[0m\u001b[0;34m,\u001b[0m \u001b[0mheaders\u001b[0m\u001b[0;34m,\u001b[0m \u001b[0mencode_chunked\u001b[0m\u001b[0;34m)\u001b[0m\u001b[0;34m\u001b[0m\u001b[0m\n\u001b[0m\u001b[1;32m   1240\u001b[0m \u001b[0;34m\u001b[0m\u001b[0m\n",
      "\u001b[0;32m~/anaconda3/lib/python3.6/http/client.py\u001b[0m in \u001b[0;36m_send_request\u001b[0;34m(self, method, url, body, headers, encode_chunked)\u001b[0m\n\u001b[1;32m   1284\u001b[0m             \u001b[0mbody\u001b[0m \u001b[0;34m=\u001b[0m \u001b[0m_encode\u001b[0m\u001b[0;34m(\u001b[0m\u001b[0mbody\u001b[0m\u001b[0;34m,\u001b[0m \u001b[0;34m'body'\u001b[0m\u001b[0;34m)\u001b[0m\u001b[0;34m\u001b[0m\u001b[0m\n\u001b[0;32m-> 1285\u001b[0;31m         \u001b[0mself\u001b[0m\u001b[0;34m.\u001b[0m\u001b[0mendheaders\u001b[0m\u001b[0;34m(\u001b[0m\u001b[0mbody\u001b[0m\u001b[0;34m,\u001b[0m \u001b[0mencode_chunked\u001b[0m\u001b[0;34m=\u001b[0m\u001b[0mencode_chunked\u001b[0m\u001b[0;34m)\u001b[0m\u001b[0;34m\u001b[0m\u001b[0m\n\u001b[0m\u001b[1;32m   1286\u001b[0m \u001b[0;34m\u001b[0m\u001b[0m\n",
      "\u001b[0;32m~/anaconda3/lib/python3.6/http/client.py\u001b[0m in \u001b[0;36mendheaders\u001b[0;34m(self, message_body, encode_chunked)\u001b[0m\n\u001b[1;32m   1233\u001b[0m             \u001b[0;32mraise\u001b[0m \u001b[0mCannotSendHeader\u001b[0m\u001b[0;34m(\u001b[0m\u001b[0;34m)\u001b[0m\u001b[0;34m\u001b[0m\u001b[0m\n\u001b[0;32m-> 1234\u001b[0;31m         \u001b[0mself\u001b[0m\u001b[0;34m.\u001b[0m\u001b[0m_send_output\u001b[0m\u001b[0;34m(\u001b[0m\u001b[0mmessage_body\u001b[0m\u001b[0;34m,\u001b[0m \u001b[0mencode_chunked\u001b[0m\u001b[0;34m=\u001b[0m\u001b[0mencode_chunked\u001b[0m\u001b[0;34m)\u001b[0m\u001b[0;34m\u001b[0m\u001b[0m\n\u001b[0m\u001b[1;32m   1235\u001b[0m \u001b[0;34m\u001b[0m\u001b[0m\n",
      "\u001b[0;32m~/anaconda3/lib/python3.6/http/client.py\u001b[0m in \u001b[0;36m_send_output\u001b[0;34m(self, message_body, encode_chunked)\u001b[0m\n\u001b[1;32m   1025\u001b[0m         \u001b[0;32mdel\u001b[0m \u001b[0mself\u001b[0m\u001b[0;34m.\u001b[0m\u001b[0m_buffer\u001b[0m\u001b[0;34m[\u001b[0m\u001b[0;34m:\u001b[0m\u001b[0;34m]\u001b[0m\u001b[0;34m\u001b[0m\u001b[0m\n\u001b[0;32m-> 1026\u001b[0;31m         \u001b[0mself\u001b[0m\u001b[0;34m.\u001b[0m\u001b[0msend\u001b[0m\u001b[0;34m(\u001b[0m\u001b[0mmsg\u001b[0m\u001b[0;34m)\u001b[0m\u001b[0;34m\u001b[0m\u001b[0m\n\u001b[0m\u001b[1;32m   1027\u001b[0m \u001b[0;34m\u001b[0m\u001b[0m\n",
      "\u001b[0;32m~/anaconda3/lib/python3.6/http/client.py\u001b[0m in \u001b[0;36msend\u001b[0;34m(self, data)\u001b[0m\n\u001b[1;32m    963\u001b[0m             \u001b[0;32mif\u001b[0m \u001b[0mself\u001b[0m\u001b[0;34m.\u001b[0m\u001b[0mauto_open\u001b[0m\u001b[0;34m:\u001b[0m\u001b[0;34m\u001b[0m\u001b[0m\n\u001b[0;32m--> 964\u001b[0;31m                 \u001b[0mself\u001b[0m\u001b[0;34m.\u001b[0m\u001b[0mconnect\u001b[0m\u001b[0;34m(\u001b[0m\u001b[0;34m)\u001b[0m\u001b[0;34m\u001b[0m\u001b[0m\n\u001b[0m\u001b[1;32m    965\u001b[0m             \u001b[0;32melse\u001b[0m\u001b[0;34m:\u001b[0m\u001b[0;34m\u001b[0m\u001b[0m\n",
      "\u001b[0;32m~/anaconda3/lib/python3.6/site-packages/urllib3/connection.py\u001b[0m in \u001b[0;36mconnect\u001b[0;34m(self)\u001b[0m\n\u001b[1;32m    165\u001b[0m     \u001b[0;32mdef\u001b[0m \u001b[0mconnect\u001b[0m\u001b[0;34m(\u001b[0m\u001b[0mself\u001b[0m\u001b[0;34m)\u001b[0m\u001b[0;34m:\u001b[0m\u001b[0;34m\u001b[0m\u001b[0m\n\u001b[0;32m--> 166\u001b[0;31m         \u001b[0mconn\u001b[0m \u001b[0;34m=\u001b[0m \u001b[0mself\u001b[0m\u001b[0;34m.\u001b[0m\u001b[0m_new_conn\u001b[0m\u001b[0;34m(\u001b[0m\u001b[0;34m)\u001b[0m\u001b[0;34m\u001b[0m\u001b[0m\n\u001b[0m\u001b[1;32m    167\u001b[0m         \u001b[0mself\u001b[0m\u001b[0;34m.\u001b[0m\u001b[0m_prepare_conn\u001b[0m\u001b[0;34m(\u001b[0m\u001b[0mconn\u001b[0m\u001b[0;34m)\u001b[0m\u001b[0;34m\u001b[0m\u001b[0m\n",
      "\u001b[0;32m~/anaconda3/lib/python3.6/site-packages/urllib3/connection.py\u001b[0m in \u001b[0;36m_new_conn\u001b[0;34m(self)\u001b[0m\n\u001b[1;32m    149\u001b[0m             raise NewConnectionError(\n\u001b[0;32m--> 150\u001b[0;31m                 self, \"Failed to establish a new connection: %s\" % e)\n\u001b[0m\u001b[1;32m    151\u001b[0m \u001b[0;34m\u001b[0m\u001b[0m\n",
      "\u001b[0;31mNewConnectionError\u001b[0m: <urllib3.connection.HTTPConnection object at 0x7efd02d7feb8>: Failed to establish a new connection: [Errno -2] Name or service not known",
      "\nDuring handling of the above exception, another exception occurred:\n",
      "\u001b[0;31mMaxRetryError\u001b[0m                             Traceback (most recent call last)",
      "\u001b[0;32m~/anaconda3/lib/python3.6/site-packages/requests/adapters.py\u001b[0m in \u001b[0;36msend\u001b[0;34m(self, request, stream, timeout, verify, cert, proxies)\u001b[0m\n\u001b[1;32m    439\u001b[0m                     \u001b[0mretries\u001b[0m\u001b[0;34m=\u001b[0m\u001b[0mself\u001b[0m\u001b[0;34m.\u001b[0m\u001b[0mmax_retries\u001b[0m\u001b[0;34m,\u001b[0m\u001b[0;34m\u001b[0m\u001b[0m\n\u001b[0;32m--> 440\u001b[0;31m                     \u001b[0mtimeout\u001b[0m\u001b[0;34m=\u001b[0m\u001b[0mtimeout\u001b[0m\u001b[0;34m\u001b[0m\u001b[0m\n\u001b[0m\u001b[1;32m    441\u001b[0m                 )\n",
      "\u001b[0;32m~/anaconda3/lib/python3.6/site-packages/urllib3/connectionpool.py\u001b[0m in \u001b[0;36murlopen\u001b[0;34m(self, method, url, body, headers, retries, redirect, assert_same_host, timeout, pool_timeout, release_conn, chunked, body_pos, **response_kw)\u001b[0m\n\u001b[1;32m    638\u001b[0m             retries = retries.increment(method, url, error=e, _pool=self,\n\u001b[0;32m--> 639\u001b[0;31m                                         _stacktrace=sys.exc_info()[2])\n\u001b[0m\u001b[1;32m    640\u001b[0m             \u001b[0mretries\u001b[0m\u001b[0;34m.\u001b[0m\u001b[0msleep\u001b[0m\u001b[0;34m(\u001b[0m\u001b[0;34m)\u001b[0m\u001b[0;34m\u001b[0m\u001b[0m\n",
      "\u001b[0;32m~/anaconda3/lib/python3.6/site-packages/urllib3/util/retry.py\u001b[0m in \u001b[0;36mincrement\u001b[0;34m(self, method, url, response, error, _pool, _stacktrace)\u001b[0m\n\u001b[1;32m    387\u001b[0m         \u001b[0;32mif\u001b[0m \u001b[0mnew_retry\u001b[0m\u001b[0;34m.\u001b[0m\u001b[0mis_exhausted\u001b[0m\u001b[0;34m(\u001b[0m\u001b[0;34m)\u001b[0m\u001b[0;34m:\u001b[0m\u001b[0;34m\u001b[0m\u001b[0m\n\u001b[0;32m--> 388\u001b[0;31m             \u001b[0;32mraise\u001b[0m \u001b[0mMaxRetryError\u001b[0m\u001b[0;34m(\u001b[0m\u001b[0m_pool\u001b[0m\u001b[0;34m,\u001b[0m \u001b[0murl\u001b[0m\u001b[0;34m,\u001b[0m \u001b[0merror\u001b[0m \u001b[0;32mor\u001b[0m \u001b[0mResponseError\u001b[0m\u001b[0;34m(\u001b[0m\u001b[0mcause\u001b[0m\u001b[0;34m)\u001b[0m\u001b[0;34m)\u001b[0m\u001b[0;34m\u001b[0m\u001b[0m\n\u001b[0m\u001b[1;32m    389\u001b[0m \u001b[0;34m\u001b[0m\u001b[0m\n",
      "\u001b[0;31mMaxRetryError\u001b[0m: HTTPConnectionPool(host='checkurl.phishtank.com', port=80): Max retries exceeded with url: /checkurl/ (Caused by NewConnectionError('<urllib3.connection.HTTPConnection object at 0x7efd02d7feb8>: Failed to establish a new connection: [Errno -2] Name or service not known',))",
      "\nDuring handling of the above exception, another exception occurred:\n",
      "\u001b[0;31mConnectionError\u001b[0m                           Traceback (most recent call last)",
      "\u001b[0;32m<ipython-input-59-78ebb064220c>\u001b[0m in \u001b[0;36m<module>\u001b[0;34m()\u001b[0m\n\u001b[0;32m----> 1\u001b[0;31m \u001b[0mr\u001b[0m \u001b[0;34m=\u001b[0m \u001b[0mrequests\u001b[0m\u001b[0;34m.\u001b[0m\u001b[0mpost\u001b[0m\u001b[0;34m(\u001b[0m\u001b[0murl_post\u001b[0m\u001b[0;34m,\u001b[0m\u001b[0mdata\u001b[0m\u001b[0;34m=\u001b[0m\u001b[0mpayload\u001b[0m\u001b[0;34m)\u001b[0m\u001b[0;34m\u001b[0m\u001b[0m\n\u001b[0m",
      "\u001b[0;32m~/anaconda3/lib/python3.6/site-packages/requests/api.py\u001b[0m in \u001b[0;36mpost\u001b[0;34m(url, data, json, **kwargs)\u001b[0m\n\u001b[1;32m    110\u001b[0m     \"\"\"\n\u001b[1;32m    111\u001b[0m \u001b[0;34m\u001b[0m\u001b[0m\n\u001b[0;32m--> 112\u001b[0;31m     \u001b[0;32mreturn\u001b[0m \u001b[0mrequest\u001b[0m\u001b[0;34m(\u001b[0m\u001b[0;34m'post'\u001b[0m\u001b[0;34m,\u001b[0m \u001b[0murl\u001b[0m\u001b[0;34m,\u001b[0m \u001b[0mdata\u001b[0m\u001b[0;34m=\u001b[0m\u001b[0mdata\u001b[0m\u001b[0;34m,\u001b[0m \u001b[0mjson\u001b[0m\u001b[0;34m=\u001b[0m\u001b[0mjson\u001b[0m\u001b[0;34m,\u001b[0m \u001b[0;34m**\u001b[0m\u001b[0mkwargs\u001b[0m\u001b[0;34m)\u001b[0m\u001b[0;34m\u001b[0m\u001b[0m\n\u001b[0m\u001b[1;32m    113\u001b[0m \u001b[0;34m\u001b[0m\u001b[0m\n\u001b[1;32m    114\u001b[0m \u001b[0;34m\u001b[0m\u001b[0m\n",
      "\u001b[0;32m~/anaconda3/lib/python3.6/site-packages/requests/api.py\u001b[0m in \u001b[0;36mrequest\u001b[0;34m(method, url, **kwargs)\u001b[0m\n\u001b[1;32m     56\u001b[0m     \u001b[0;31m# cases, and look like a memory leak in others.\u001b[0m\u001b[0;34m\u001b[0m\u001b[0;34m\u001b[0m\u001b[0m\n\u001b[1;32m     57\u001b[0m     \u001b[0;32mwith\u001b[0m \u001b[0msessions\u001b[0m\u001b[0;34m.\u001b[0m\u001b[0mSession\u001b[0m\u001b[0;34m(\u001b[0m\u001b[0;34m)\u001b[0m \u001b[0;32mas\u001b[0m \u001b[0msession\u001b[0m\u001b[0;34m:\u001b[0m\u001b[0;34m\u001b[0m\u001b[0m\n\u001b[0;32m---> 58\u001b[0;31m         \u001b[0;32mreturn\u001b[0m \u001b[0msession\u001b[0m\u001b[0;34m.\u001b[0m\u001b[0mrequest\u001b[0m\u001b[0;34m(\u001b[0m\u001b[0mmethod\u001b[0m\u001b[0;34m=\u001b[0m\u001b[0mmethod\u001b[0m\u001b[0;34m,\u001b[0m \u001b[0murl\u001b[0m\u001b[0;34m=\u001b[0m\u001b[0murl\u001b[0m\u001b[0;34m,\u001b[0m \u001b[0;34m**\u001b[0m\u001b[0mkwargs\u001b[0m\u001b[0;34m)\u001b[0m\u001b[0;34m\u001b[0m\u001b[0m\n\u001b[0m\u001b[1;32m     59\u001b[0m \u001b[0;34m\u001b[0m\u001b[0m\n\u001b[1;32m     60\u001b[0m \u001b[0;34m\u001b[0m\u001b[0m\n",
      "\u001b[0;32m~/anaconda3/lib/python3.6/site-packages/requests/sessions.py\u001b[0m in \u001b[0;36mrequest\u001b[0;34m(self, method, url, params, data, headers, cookies, files, auth, timeout, allow_redirects, proxies, hooks, stream, verify, cert, json)\u001b[0m\n\u001b[1;32m    506\u001b[0m         }\n\u001b[1;32m    507\u001b[0m         \u001b[0msend_kwargs\u001b[0m\u001b[0;34m.\u001b[0m\u001b[0mupdate\u001b[0m\u001b[0;34m(\u001b[0m\u001b[0msettings\u001b[0m\u001b[0;34m)\u001b[0m\u001b[0;34m\u001b[0m\u001b[0m\n\u001b[0;32m--> 508\u001b[0;31m         \u001b[0mresp\u001b[0m \u001b[0;34m=\u001b[0m \u001b[0mself\u001b[0m\u001b[0;34m.\u001b[0m\u001b[0msend\u001b[0m\u001b[0;34m(\u001b[0m\u001b[0mprep\u001b[0m\u001b[0;34m,\u001b[0m \u001b[0;34m**\u001b[0m\u001b[0msend_kwargs\u001b[0m\u001b[0;34m)\u001b[0m\u001b[0;34m\u001b[0m\u001b[0m\n\u001b[0m\u001b[1;32m    509\u001b[0m \u001b[0;34m\u001b[0m\u001b[0m\n\u001b[1;32m    510\u001b[0m         \u001b[0;32mreturn\u001b[0m \u001b[0mresp\u001b[0m\u001b[0;34m\u001b[0m\u001b[0m\n",
      "\u001b[0;32m~/anaconda3/lib/python3.6/site-packages/requests/sessions.py\u001b[0m in \u001b[0;36msend\u001b[0;34m(self, request, **kwargs)\u001b[0m\n\u001b[1;32m    616\u001b[0m \u001b[0;34m\u001b[0m\u001b[0m\n\u001b[1;32m    617\u001b[0m         \u001b[0;31m# Send the request\u001b[0m\u001b[0;34m\u001b[0m\u001b[0;34m\u001b[0m\u001b[0m\n\u001b[0;32m--> 618\u001b[0;31m         \u001b[0mr\u001b[0m \u001b[0;34m=\u001b[0m \u001b[0madapter\u001b[0m\u001b[0;34m.\u001b[0m\u001b[0msend\u001b[0m\u001b[0;34m(\u001b[0m\u001b[0mrequest\u001b[0m\u001b[0;34m,\u001b[0m \u001b[0;34m**\u001b[0m\u001b[0mkwargs\u001b[0m\u001b[0;34m)\u001b[0m\u001b[0;34m\u001b[0m\u001b[0m\n\u001b[0m\u001b[1;32m    619\u001b[0m \u001b[0;34m\u001b[0m\u001b[0m\n\u001b[1;32m    620\u001b[0m         \u001b[0;31m# Total elapsed time of the request (approximately)\u001b[0m\u001b[0;34m\u001b[0m\u001b[0;34m\u001b[0m\u001b[0m\n",
      "\u001b[0;32m~/anaconda3/lib/python3.6/site-packages/requests/adapters.py\u001b[0m in \u001b[0;36msend\u001b[0;34m(self, request, stream, timeout, verify, cert, proxies)\u001b[0m\n\u001b[1;32m    506\u001b[0m                 \u001b[0;32mraise\u001b[0m \u001b[0mSSLError\u001b[0m\u001b[0;34m(\u001b[0m\u001b[0me\u001b[0m\u001b[0;34m,\u001b[0m \u001b[0mrequest\u001b[0m\u001b[0;34m=\u001b[0m\u001b[0mrequest\u001b[0m\u001b[0;34m)\u001b[0m\u001b[0;34m\u001b[0m\u001b[0m\n\u001b[1;32m    507\u001b[0m \u001b[0;34m\u001b[0m\u001b[0m\n\u001b[0;32m--> 508\u001b[0;31m             \u001b[0;32mraise\u001b[0m \u001b[0mConnectionError\u001b[0m\u001b[0;34m(\u001b[0m\u001b[0me\u001b[0m\u001b[0;34m,\u001b[0m \u001b[0mrequest\u001b[0m\u001b[0;34m=\u001b[0m\u001b[0mrequest\u001b[0m\u001b[0;34m)\u001b[0m\u001b[0;34m\u001b[0m\u001b[0m\n\u001b[0m\u001b[1;32m    509\u001b[0m \u001b[0;34m\u001b[0m\u001b[0m\n\u001b[1;32m    510\u001b[0m         \u001b[0;32mexcept\u001b[0m \u001b[0mClosedPoolError\u001b[0m \u001b[0;32mas\u001b[0m \u001b[0me\u001b[0m\u001b[0;34m:\u001b[0m\u001b[0;34m\u001b[0m\u001b[0m\n",
      "\u001b[0;31mConnectionError\u001b[0m: HTTPConnectionPool(host='checkurl.phishtank.com', port=80): Max retries exceeded with url: /checkurl/ (Caused by NewConnectionError('<urllib3.connection.HTTPConnection object at 0x7efd02d7feb8>: Failed to establish a new connection: [Errno -2] Name or service not known',))"
     ]
    }
   ],
   "source": [
    "r = requests.post(url_post,data=payload)"
   ]
  },
  {
   "cell_type": "code",
   "execution_count": null,
   "metadata": {},
   "outputs": [],
   "source": [
    "r.json()"
   ]
  },
  {
   "cell_type": "code",
   "execution_count": 44,
   "metadata": {
    "collapsed": true
   },
   "outputs": [],
   "source": [
    "rq = requests.get('http://www.phishtank.com/phish_detail.php?phish_id=99640')"
   ]
  },
  {
   "cell_type": "code",
   "execution_count": 46,
   "metadata": {
    "collapsed": true
   },
   "outputs": [],
   "source": [
    "url = 'https://www.whois.com/whois/'\n",
    "param = 'disputed-lockedpaaypal.com'\n",
    "r = requests.get(url+param)"
   ]
  },
  {
   "cell_type": "code",
   "execution_count": 9,
   "metadata": {
    "collapsed": true
   },
   "outputs": [],
   "source": [
    "import whois"
   ]
  },
  {
   "cell_type": "code",
   "execution_count": 71,
   "metadata": {
    "collapsed": true
   },
   "outputs": [],
   "source": [
    "r = whois.whois('www.paypal.com.web-scr.us')"
   ]
  },
  {
   "cell_type": "code",
   "execution_count": 72,
   "metadata": {
    "collapsed": true
   },
   "outputs": [],
   "source": [
    "cr = r.creation_date\n",
    "ex = r.expiration_date"
   ]
  },
  {
   "cell_type": "code",
   "execution_count": 10,
   "metadata": {
    "collapsed": true
   },
   "outputs": [],
   "source": [
    "import datetime"
   ]
  },
  {
   "cell_type": "code",
   "execution_count": 74,
   "metadata": {},
   "outputs": [
    {
     "ename": "TypeError",
     "evalue": "'NoneType' object is not subscriptable",
     "output_type": "error",
     "traceback": [
      "\u001b[0;31m---------------------------------------------------------------------------\u001b[0m",
      "\u001b[0;31mTypeError\u001b[0m                                 Traceback (most recent call last)",
      "\u001b[0;32m<ipython-input-74-4d39b11a9b16>\u001b[0m in \u001b[0;36m<module>\u001b[0;34m()\u001b[0m\n\u001b[0;32m----> 1\u001b[0;31m \u001b[0mrs\u001b[0m \u001b[0;34m=\u001b[0m \u001b[0mex\u001b[0m\u001b[0;34m[\u001b[0m\u001b[0;36m0\u001b[0m\u001b[0;34m]\u001b[0m \u001b[0;34m-\u001b[0m\u001b[0mcr\u001b[0m\u001b[0;34m[\u001b[0m\u001b[0;36m0\u001b[0m\u001b[0;34m]\u001b[0m\u001b[0;34m\u001b[0m\u001b[0m\n\u001b[0m",
      "\u001b[0;31mTypeError\u001b[0m: 'NoneType' object is not subscriptable"
     ]
    }
   ],
   "source": [
    "rs = ex[0] -cr[0]"
   ]
  },
  {
   "cell_type": "code",
   "execution_count": 8,
   "metadata": {
    "collapsed": true
   },
   "outputs": [],
   "source": [
    " from dateutil import relativedelta"
   ]
  },
  {
   "cell_type": "code",
   "execution_count": 75,
   "metadata": {},
   "outputs": [
    {
     "ename": "TypeError",
     "evalue": "'NoneType' object is not subscriptable",
     "output_type": "error",
     "traceback": [
      "\u001b[0;31m---------------------------------------------------------------------------\u001b[0m",
      "\u001b[0;31mTypeError\u001b[0m                                 Traceback (most recent call last)",
      "\u001b[0;32m<ipython-input-75-915bd8005d6a>\u001b[0m in \u001b[0;36m<module>\u001b[0;34m()\u001b[0m\n\u001b[0;32m----> 1\u001b[0;31m \u001b[0mr\u001b[0m \u001b[0;34m=\u001b[0m \u001b[0mrelativedelta\u001b[0m\u001b[0;34m.\u001b[0m\u001b[0mrelativedelta\u001b[0m\u001b[0;34m(\u001b[0m\u001b[0mex\u001b[0m\u001b[0;34m[\u001b[0m\u001b[0;36m0\u001b[0m\u001b[0;34m]\u001b[0m\u001b[0;34m,\u001b[0m\u001b[0mcr\u001b[0m\u001b[0;34m[\u001b[0m\u001b[0;36m0\u001b[0m\u001b[0;34m]\u001b[0m\u001b[0;34m)\u001b[0m\u001b[0;34m\u001b[0m\u001b[0m\n\u001b[0m",
      "\u001b[0;31mTypeError\u001b[0m: 'NoneType' object is not subscriptable"
     ]
    }
   ],
   "source": [
    "r = relativedelta.relativedelta(ex[0],cr[0])"
   ]
  },
  {
   "cell_type": "code",
   "execution_count": 22,
   "metadata": {
    "collapsed": true
   },
   "outputs": [],
   "source": [
    "def age_of_domain(url):\n",
    "    url_score ={}\n",
    "    score11=0\n",
    "    try : \n",
    "        r =whois.whois(url)\n",
    "        ex_date = r.expiration_date\n",
    "        \n",
    "        cr_date = r.creation_date\n",
    "        print(ex_date)\n",
    "        \n",
    "        if type(ex_date) is list:\n",
    "            diff = relativedelta.relativedelta(ex_date[0],cr_date[0])\n",
    "        else: \n",
    "            diff = relativedelta.relativedelta(ex_date,cr_date)\n",
    "        print(diff.years)\n",
    "        if diff.years <= 1 and diff.months <= 6:\n",
    "            score11 =-1\n",
    "        else:\n",
    "            score11=1\n",
    "    \n",
    "    finally:\n",
    "        url_score['11'] = score11\n",
    "    return url_score , r"
   ]
  },
  {
   "cell_type": "code",
   "execution_count": 26,
   "metadata": {},
   "outputs": [
    {
     "name": "stdout",
     "output_type": "stream",
     "text": [
      "2019-01-03 22:26:06\n",
      "7\n"
     ]
    }
   ],
   "source": [
    "r,data = age_of_domain(\"http://www.executiveimagenutrition.com/\")"
   ]
  },
  {
   "cell_type": "code",
   "execution_count": 27,
   "metadata": {},
   "outputs": [
    {
     "data": {
      "text/plain": [
       "{'11': 1}"
      ]
     },
     "execution_count": 27,
     "metadata": {},
     "output_type": "execute_result"
    }
   ],
   "source": [
    "r"
   ]
  },
  {
   "cell_type": "code",
   "execution_count": 39,
   "metadata": {
    "collapsed": true
   },
   "outputs": [],
   "source": [
    "url = \"http://taraitirohtak.com/\""
   ]
  },
  {
   "cell_type": "code",
   "execution_count": 40,
   "metadata": {},
   "outputs": [],
   "source": [
    "r =whois.whois(url)"
   ]
  },
  {
   "cell_type": "code",
   "execution_count": 41,
   "metadata": {},
   "outputs": [
    {
     "data": {
      "text/plain": [
       "{'address': '10 Corporate Drive',\n",
       " 'city': 'Burlington',\n",
       " 'country': 'US',\n",
       " 'creation_date': datetime.datetime(2013, 4, 24, 8, 47, 20),\n",
       " 'dnssec': ['unsigned', 'Unsigned'],\n",
       " 'domain_name': 'TARAITIROHTAK.COM',\n",
       " 'emails': 'contact@privacyprotect.org',\n",
       " 'expiration_date': datetime.datetime(2018, 4, 24, 8, 47, 20),\n",
       " 'name': 'Domain Admin',\n",
       " 'name_servers': ['BLINUXNS5.SECUREHOSTDNS.COM',\n",
       "  'BLINUXNS6.SECUREHOSTDNS.COM',\n",
       "  'blinuxns5.securehostdns.com',\n",
       "  'blinuxns6.securehostdns.com'],\n",
       " 'org': 'Privacy Protect, LLC (PrivacyProtect.org)',\n",
       " 'referral_url': None,\n",
       " 'registrar': 'ZNet Technologies Pvt Ltd.',\n",
       " 'state': 'MA',\n",
       " 'status': 'clientTransferProhibited https://icann.org/epp#clientTransferProhibited',\n",
       " 'updated_date': [datetime.datetime(2017, 4, 28, 14, 1, 36),\n",
       "  datetime.datetime(2017, 4, 28, 14, 1, 37)],\n",
       " 'whois_server': 'whois.znetlive.com',\n",
       " 'zipcode': '01803'}"
      ]
     },
     "execution_count": 41,
     "metadata": {},
     "output_type": "execute_result"
    }
   ],
   "source": [
    "r"
   ]
  },
  {
   "cell_type": "code",
   "execution_count": 46,
   "metadata": {},
   "outputs": [],
   "source": [
    "today = datetime.date.today()\n",
    "exp = r.expiration_date\n",
    "delta = relativedelta.relativedelta(exp,today)"
   ]
  },
  {
   "cell_type": "code",
   "execution_count": 49,
   "metadata": {},
   "outputs": [
    {
     "data": {
      "text/plain": [
       "0"
      ]
     },
     "execution_count": 49,
     "metadata": {},
     "output_type": "execute_result"
    }
   ],
   "source": [
    "delta.years"
   ]
  },
  {
   "cell_type": "code",
   "execution_count": null,
   "metadata": {
    "collapsed": true
   },
   "outputs": [],
   "source": []
  },
  {
   "cell_type": "code",
   "execution_count": 153,
   "metadata": {
    "collapsed": true
   },
   "outputs": [],
   "source": [
    "def prefix_suffix(url):\n",
    "    lenn = len(url)-1\n",
    "\n",
    "    score12 = 0\n",
    "\n",
    "    if (url[lenn] != '/'):\n",
    "        new_url = url+'/'\n",
    "\n",
    "    else:\n",
    "        new_url = url\n",
    "\n",
    "    if 'https://' in new_url:\n",
    "        new_url = new_url.replace('https://','')\n",
    "\n",
    "    elif 'http://' in new_url:\n",
    "        new_url = new_url.replace('http://','')\n",
    "\n",
    "\n",
    "    for i in range(lenn):\n",
    "        if new_url[i] == '/':\n",
    "            j = i\n",
    "            break\n",
    "    new_url = new_url[:j:]\n",
    "    if \"-\" in new_url:\n",
    "        score =-1\n",
    "    else:\n",
    "        score=1\n",
    "    return score\n"
   ]
  },
  {
   "cell_type": "code",
   "execution_count": 156,
   "metadata": {
    "collapsed": true
   },
   "outputs": [],
   "source": [
    "a = prefix_suffix(\"https://www.apple-idsafety.com/\")"
   ]
  },
  {
   "cell_type": "code",
   "execution_count": 173,
   "metadata": {
    "collapsed": true
   },
   "outputs": [],
   "source": [
    "url =\"https://appleidsafety.com/\""
   ]
  },
  {
   "cell_type": "code",
   "execution_count": 174,
   "metadata": {
    "collapsed": true
   },
   "outputs": [],
   "source": [
    "r = requests.get(url,verify=True)"
   ]
  },
  {
   "cell_type": "code",
   "execution_count": 178,
   "metadata": {},
   "outputs": [
    {
     "name": "stdout",
     "output_type": "stream",
     "text": [
      "https://digitalhomeit.com has a valid SSL certificate!\n",
      "https://example.com has a valid SSL certificate!\n"
     ]
    }
   ],
   "source": [
    "import requests\n",
    "\n",
    "def check_ssl(url):\n",
    "    try:\n",
    "        req = requests.get(url, verify=True)\n",
    "        print (url + ' has a valid SSL certificate!')\n",
    "    except requests.exceptions.SSLError:\n",
    "        print (url + ' has INVALID SSL certificate!')\n",
    "\n",
    "check_ssl('https://digitalhomeit.com')\n",
    "check_ssl('https://example.com')"
   ]
  },
  {
   "cell_type": "code",
   "execution_count": 171,
   "metadata": {},
   "outputs": [
    {
     "ename": "TypeError",
     "evalue": "'method' object is not iterable",
     "output_type": "error",
     "traceback": [
      "\u001b[0;31m---------------------------------------------------------------------------\u001b[0m",
      "\u001b[0;31mTypeError\u001b[0m                                 Traceback (most recent call last)",
      "\u001b[0;32m<ipython-input-171-73b39cd1eeb1>\u001b[0m in \u001b[0;36m<module>\u001b[0;34m()\u001b[0m\n\u001b[0;32m----> 1\u001b[0;31m \u001b[0;32mfor\u001b[0m \u001b[0mi\u001b[0m \u001b[0;32min\u001b[0m \u001b[0md\u001b[0m\u001b[0;34m:\u001b[0m\u001b[0;34m\u001b[0m\u001b[0m\n\u001b[0m\u001b[1;32m      2\u001b[0m     \u001b[0mprint\u001b[0m\u001b[0;34m(\u001b[0m\u001b[0mi\u001b[0m\u001b[0;34m)\u001b[0m\u001b[0;34m\u001b[0m\u001b[0m\n",
      "\u001b[0;31mTypeError\u001b[0m: 'method' object is not iterable"
     ]
    }
   ],
   "source": []
  },
  {
   "cell_type": "code",
   "execution_count": 201,
   "metadata": {
    "collapsed": true
   },
   "outputs": [],
   "source": [
    "for i,word in enumerate(a):\n",
    "    if word.isupper()==True:\n",
    "        del a[i]\n",
    "        "
   ]
  },
  {
   "cell_type": "code",
   "execution_count": 203,
   "metadata": {},
   "outputs": [
    {
     "name": "stdout",
     "output_type": "stream",
     "text": [
      "['.ac', '.ad', '.ae', '.af', '.ag', '.ai', '.al', '.am', '.ao', '.aq', '.ar', '.as', '.at', '.au', '.aw', '.ax', '.az', '.ba', '.bb', '.bd', '.be', '.bf', '.bg', '.bh', '.bi', '.bj', '.bm', '.bn', '.bo', '.br', '.bs', '.bt', '.bw', '.by', '.bz', '.ca', '.cc', '.cd', '.cf', '.cg', '.ch', '.ci', '.ck', '.cl', '.cm', '.cn', '.co', '.cr', '.cu', '.cv', '.cw', '.cx', '.cy', '.cz', '.de', '.dj', '.dk', '.dm', '.do', '.dz', '.ec', '.ee', '.eg', '.er', '.es', '.et', '.eu', '.fi', '.fj', '.fk', '.fm', '.fo', '.fr', '.ga', '.gd', '.ge', '.gf', '.gg', '.gh', '.gi', '.gl', '.gm', '.gn', '.gp', '.gq', '.gr', '.gs', '.gt', '.gu', '.gw', '.gy', '.hk', '.hm', '.hn', '.hr', '.ht', '.hu', '.id', '.ie', '.il', '.im', '.in', '.io', '.iq', '.ir', '.is', '.it', '.je', '.jm', '.jo', '.jp', '.ke', '.kg', '.kh', '.ki', '.km', '.kn', '.kp', '.kr', '.kw', '.ky', '.kz', '.la', '.lb', '.lc', '.li', '.lk', '.lr', '.ls', '.lt', '.lu', '.lv', '.ly', '.ma', '.mc', '.md', '.me', '.mg', '.mh', '.mk', '.ml', '.mm', '.mn', '.mo', '.mp', '.mq', '.mr', '.ms', '.mt', '.mu', '.mv', '.mw', '.mx', '.my', '.mz', '.na', '.nc', '.ne', '.nf', '.ng', '.ni', '.nl', '.no', '.np', '.nr', '.nu', '.nz', '.om', '.pa', '.pe', '.pf', '.pg', '.ph', '.pk', '.pl', '.pm', '.pn', '.pr', '.ps', '.pt', '.pw', '.py', '.qa', '.re', '.ro', '.rs', '.ru', '.rw', '.sa', '.sb', '.sc', '.sd', '.se', '.sg', '.sh', '.si', '.sk', '.sl', '.sm', '.sn', '.so', '.sr', '.ss', '.st', '.sv', '.sx', '.sy', '.sz', '.tc', '.td', '.tf', '.tg', '.th', '.tj', '.tk', '.tl', '.tm', '.tn', '.to', '.tr', '.tt', '.tv', '.tw', '.tz', '.ua', '.ug', '.uk', '.us', '.uy', '.uz', '.va', '.vc', '.ve', '.vg', '.vi', '.vn', '.vu', '.wf', '.ws', '.ye', '.yt', '.za', '.zm', '.zw']\n"
     ]
    }
   ],
   "source": [
    "print(a)"
   ]
  },
  {
   "cell_type": "code",
   "execution_count": 210,
   "metadata": {
    "collapsed": true
   },
   "outputs": [],
   "source": [
    "\n",
    "a =\"hfv.bbdkjf.nkfdk\""
   ]
  },
  {
   "cell_type": "code",
   "execution_count": 212,
   "metadata": {},
   "outputs": [
    {
     "name": "stdout",
     "output_type": "stream",
     "text": [
      "2\n"
     ]
    }
   ],
   "source": [
    "num_dots = 0\n",
    "for i in a:\n",
    "    if i==\".\":\n",
    "        num_dots+=1\n",
    "        \n",
    "print(num_dots)\n",
    "    "
   ]
  },
  {
   "cell_type": "code",
   "execution_count": 223,
   "metadata": {
    "collapsed": true
   },
   "outputs": [],
   "source": [
    "def sub_domain_check(url):\n",
    "    lenn = len(url)-1\n",
    "\n",
    "    score12 = 0\n",
    "\n",
    "    if (url[lenn] != '/'):\n",
    "        new_url = url+'/'\n",
    "\n",
    "    else:\n",
    "        new_url = url\n",
    "\n",
    "    if 'https://' in new_url:\n",
    "        new_url = new_url.replace('https://','')\n",
    "\n",
    "    elif 'http://' in new_url:\n",
    "        new_url = new_url.replace('http://','')\n",
    "    for i in range(lenn):\n",
    "        if new_url[i] == '/':\n",
    "            j = i\n",
    "            break\n",
    "    new_url = new_url[:j:]\n",
    "    if 'www.' in new_url:\n",
    "        new_url = new_url.replace('www.','')\n",
    "    ccTLD = ['.ac', '.ad', '.ae', '.af', '.ag', '.ai', '.al', '.am', '.ao', '.aq', '.ar', '.as', '.at', '.au', '.aw', '.ax', '.az', '.ba', '.bb', '.bd', '.be', '.bf', '.bg', '.bh', '.bi', '.bj', '.bm', '.bn', '.bo', '.br', '.bs', '.bt', '.bw', '.by', '.bz', '.ca', '.cc', '.cd', '.cf', '.cg', '.ch', '.ci', '.ck', '.cl', '.cm', '.cn', '.co', '.cr', '.cu', '.cv', '.cw', '.cx', '.cy', '.cz', '.de', '.dj', '.dk', '.dm', '.do', '.dz', '.ec', '.ee', '.eg', '.er', '.es', '.et', '.eu', '.fi', '.fj', '.fk', '.fm', '.fo', '.fr', '.ga', '.gd', '.ge', '.gf', '.gg', '.gh', '.gi', '.gl', '.gm', '.gn', '.gp', '.gq', '.gr', '.gs', '.gt', '.gu', '.gw', '.gy', '.hk', '.hm', '.hn', '.hr', '.ht', '.hu', '.id', '.ie', '.il', '.im', '.in', '.io', '.iq', '.ir', '.is', '.it', '.je', '.jm', '.jo', '.jp', '.ke', '.kg', '.kh', '.ki', '.km', '.kn', '.kp', '.kr', '.kw', '.ky', '.kz', '.la', '.lb', '.lc', '.li', '.lk', '.lr', '.ls', '.lt', '.lu', '.lv', '.ly', '.ma', '.mc', '.md', '.me', '.mg', '.mh', '.mk', '.ml', '.mm', '.mn', '.mo', '.mp', '.mq', '.mr', '.ms', '.mt', '.mu', '.mv', '.mw', '.mx', '.my', '.mz', '.na', '.nc', '.ne', '.nf', '.ng', '.ni', '.nl', '.no', '.np', '.nr', '.nu', '.nz', '.om', '.pa', '.pe', '.pf', '.pg', '.ph', '.pk', '.pl', '.pm', '.pn', '.pr', '.ps', '.pt', '.pw', '.py', '.qa', '.re', '.ro', '.rs', '.ru', '.rw', '.sa', '.sb', '.sc', '.sd', '.se', '.sg', '.sh', '.si', '.sk', '.sl', '.sm', '.sn', '.so', '.sr', '.ss', '.st', '.sv', '.sx', '.sy', '.sz', '.tc', '.td', '.tf', '.tg', '.th', '.tj', '.tk', '.tl', '.tm', '.tn', '.to', '.tr', '.tt', '.tv', '.tw', '.tz', '.ua', '.ug', '.uk', '.us', '.uy', '.uz', '.va', '.vc', '.ve', '.vg', '.vi', '.vn', '.vu', '.wf', '.ws', '.ye', '.yt', '.za', '.zm', '.zw']\n",
    "    for i in ccTLD:\n",
    "        if i in new_url[-3:]:\n",
    "            new_url=new_url.replace(i,'')\n",
    "    num_dots =0\n",
    "    print(new_url)\n",
    "    for j in new_url:\n",
    "        if j==\".\":\n",
    "            num_dots+=1\n",
    "    print(num_dots)\n",
    "    if num_dots==2:\n",
    "        score13 =0\n",
    "    elif num_dots>2:\n",
    "        score13 =-1\n",
    "    else:\n",
    "        score13=1\n",
    "    return score13"
   ]
  },
  {
   "cell_type": "raw",
   "metadata": {},
   "source": [
    "url =\"http://dirsfontverify.gearstorehole3.dubspeeudsummery.com\""
   ]
  },
  {
   "cell_type": "code",
   "execution_count": 224,
   "metadata": {
    "collapsed": true
   },
   "outputs": [],
   "source": [
    "url =\"http://dirsfontverify.gearstorehole3.dubspeeudsummery.com\""
   ]
  },
  {
   "cell_type": "code",
   "execution_count": 225,
   "metadata": {},
   "outputs": [
    {
     "name": "stdout",
     "output_type": "stream",
     "text": [
      "dirsfontverify.gearstorehole3.dubspeeudsummery.com\n",
      "3\n"
     ]
    },
    {
     "data": {
      "text/plain": [
       "-1"
      ]
     },
     "execution_count": 225,
     "metadata": {},
     "output_type": "execute_result"
    }
   ],
   "source": [
    "sub_domain_check(url)"
   ]
  },
  {
   "cell_type": "code",
   "execution_count": 427,
   "metadata": {
    "collapsed": true
   },
   "outputs": [],
   "source": [
    "r = requests.get('https://secure-zahlungsdaten-validierung-net.gdn/975761/pCJDBh1Tzevoski/Hbh9CoaJT4YXmjE/479824295174/yvizbTJpRw0sX7c/NvAtzB71Mh29IpK/signin_assoc.handle.php?assoc_handle=z2eG5yvT86HfVU9M4l7t0gXEpo3cka&openid_claim=B3eGQVP5hkmqgpnHaA6Z&identifier_select=UgOwmhGNR3IPQ56ZdcJK&pape_max=MYK0Q5sNV3d8cOxgypFZUqHDbaweAG&id_veri=dtcUBWGJSUYEHTO',verify=True,stream=True)"
   ]
  },
  {
   "cell_type": "code",
   "execution_count": 428,
   "metadata": {},
   "outputs": [
    {
     "data": {
      "text/plain": [
       "{'Date': 'Sun, 04 Mar 2018 15:25:00 GMT', 'Content-Type': 'text/html; charset=UTF-8', 'Transfer-Encoding': 'chunked', 'Connection': 'keep-alive', 'Set-Cookie': '__cfduid=d18d500aac8573f68da5f6c75fd1188761520177099; expires=Mon, 04-Mar-19 15:24:59 GMT; path=/; domain=.secure-zahlungsdaten-validierung-net.gdn; HttpOnly, PHPSESSID=2r3i0uo9uff9t5vq6vflt92ho5; path=/', 'Expires': 'Thu, 19 Nov 1981 08:52:00 GMT', 'Cache-Control': 'no-store, no-cache, must-revalidate', 'Pragma': 'no-cache', 'Vary': 'Accept-Encoding', 'Expect-CT': 'max-age=604800, report-uri=\"https://report-uri.cloudflare.com/cdn-cgi/beacon/expect-ct\"', 'Server': 'cloudflare', 'CF-RAY': '3f655a5679f77cb4-MUC', 'Content-Encoding': 'gzip'}"
      ]
     },
     "execution_count": 428,
     "metadata": {},
     "output_type": "execute_result"
    }
   ],
   "source": [
    "r.headers"
   ]
  },
  {
   "cell_type": "code",
   "execution_count": null,
   "metadata": {
    "collapsed": true
   },
   "outputs": [],
   "source": []
  }
 ],
 "metadata": {
  "kernelspec": {
   "display_name": "Python 3",
   "language": "python",
   "name": "python3"
  },
  "language_info": {
   "codemirror_mode": {
    "name": "ipython",
    "version": 3
   },
   "file_extension": ".py",
   "mimetype": "text/x-python",
   "name": "python",
   "nbconvert_exporter": "python",
   "pygments_lexer": "ipython3",
   "version": "3.6.3"
  }
 },
 "nbformat": 4,
 "nbformat_minor": 2
}
