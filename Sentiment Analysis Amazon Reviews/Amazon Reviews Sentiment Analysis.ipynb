{
  "cells": [
    {
      "metadata": {
        "_uuid": "9a26959b3809fa421354ea9e17fb555551d566a2"
      },
      "cell_type": "markdown",
      "source": "importing Libraries"
    },
    {
      "metadata": {
        "_uuid": "8f2839f25d086af736a60e9eeb907d3b93b6e0e5",
        "_cell_guid": "b1076dfc-b9ad-4769-8c92-a6c4dae69d19",
        "trusted": true,
        "collapsed": true
      },
      "cell_type": "code",
      "source": "import pandas as pd\nimport numpy as np\nimport matplotlib.pyplot as plt\nimport seaborn as sns\nimport nltk\nimport bz2\nimport random\nimport re\nfrom nltk.corpus import stopwords\nfrom nltk.stem.porter import PorterStemmer\nimport pickle",
      "execution_count": null,
      "outputs": []
    },
    {
      "metadata": {
        "_cell_guid": "79c7e3d0-c299-4dcb-8224-4455121ee9b0",
        "_uuid": "d629ff2d2480ee46fbb7e2d37f6b5fab8052498a",
        "trusted": true,
        "collapsed": true
      },
      "cell_type": "code",
      "source": "# train_file = bz2.BZ2File('../input/train.ft.txt.bz2')\n# test_file = bz2.BZ2File('../input/test.ft.txt.bz2')",
      "execution_count": null,
      "outputs": []
    },
    {
      "metadata": {
        "trusted": true,
        "_uuid": "3f2be43709ae5ca4abacb963fcedef6bd90054d4",
        "collapsed": true
      },
      "cell_type": "code",
      "source": "# train_lines = train_file.readlines()\n# test_lines = test_file.readlines()",
      "execution_count": null,
      "outputs": []
    },
    {
      "metadata": {
        "trusted": true,
        "_uuid": "c0614181788bd81fa40e3db4a18cf48dcb03626a",
        "collapsed": true
      },
      "cell_type": "code",
      "source": "# print(\"Total number of training reviews {} \\nTotal Number of testing reviews {} \".format(len(train_lines),len(test_lines)))",
      "execution_count": null,
      "outputs": []
    },
    {
      "metadata": {
        "trusted": true,
        "_uuid": "b888e1f972625ea527679d73d263c6407c0bf020",
        "collapsed": true
      },
      "cell_type": "code",
      "source": "# #converting raw binary strings into strings that can be parsed\n# train_lines = [x.decode('utf-8') for x in train_lines]\n# test_lines = [x.decode('utf-8') for x in test_lines]",
      "execution_count": null,
      "outputs": []
    },
    {
      "metadata": {
        "trusted": true,
        "_uuid": "170901fa2a7da16440abb21cc775e3a2cbd033b7",
        "collapsed": true
      },
      "cell_type": "code",
      "source": "# train_review = []\n# test_review = []\n# for i in train_lines:\n#     if i[0:10] == '__label__2':\n#         train_review.append(1)\n#     elif i[0:10] == '__label__1':\n#         train_review.append(0)\n# for i in test_lines:\n#     if i[0:10] == '__label__2':\n#         test_review.append(1)\n#     elif i[0:10] == '__label__1':\n#         test_review.append(0)",
      "execution_count": null,
      "outputs": []
    },
    {
      "metadata": {
        "trusted": true,
        "_uuid": "b5673e9f8fb18f8a67d0de5a6df96d2b91528822",
        "collapsed": true
      },
      "cell_type": "code",
      "source": "# train_review[70:75]",
      "execution_count": null,
      "outputs": []
    },
    {
      "metadata": {
        "trusted": true,
        "collapsed": true,
        "_uuid": "c4992936875f7a2cf4f6825be6988ed18aa81fad"
      },
      "cell_type": "code",
      "source": "# train_lines_nolabel = []\n# test_lines_nolabel = []\n# for i in train_lines:\n#     train_lines_nolabel.append(i[11:-1])\n# for i in test_lines:\n#     test_lines_nolabel.append(i[11:-1])",
      "execution_count": null,
      "outputs": []
    },
    {
      "metadata": {
        "trusted": true,
        "_uuid": "d2e083676128fde2a4aa70368b7bb1ba23ceb0af",
        "collapsed": true
      },
      "cell_type": "code",
      "source": "# for i in range(0,20000):\n#     test_lines_nolabel[i] = re.sub(r'\\S+\\.com\\S*', '', test_lines_nolabel[i])",
      "execution_count": null,
      "outputs": []
    },
    {
      "metadata": {
        "trusted": true,
        "_uuid": "4d842929b4676df2559c843dd51d1c1565409ecb",
        "collapsed": true
      },
      "cell_type": "code",
      "source": "# for i in range(0,80000):\n#     train_lines_nolabel[i] = re.sub(r'\\S+\\.com\\S*', '', train_lines_nolabel[i])",
      "execution_count": null,
      "outputs": []
    },
    {
      "metadata": {
        "trusted": true,
        "_uuid": "7533599ff62b7a6b9e36bc332dea20ee71bf4bd5",
        "collapsed": true
      },
      "cell_type": "code",
      "source": "# train_lines_nolabel[76]",
      "execution_count": null,
      "outputs": []
    },
    {
      "metadata": {
        "trusted": true,
        "_uuid": "fbb333afb6a1053b638311effe0c07261cb7be68",
        "collapsed": true
      },
      "cell_type": "code",
      "source": "# corpus_train = []\n# ps = PorterStemmer()\n# for i in range(0,80000):\n#     review = re.sub('[^a-zA-Z]',' ',train_lines_nolabel[i])\n#     review = review.lower()\n#     review = review.split()\n#     review = [ps.stem(word) for word in review if not word in set(stopwords.words('english'))]\n#     review = ' '.join(review)\n#     corpus_train.append(review)",
      "execution_count": null,
      "outputs": []
    },
    {
      "metadata": {
        "trusted": true,
        "_uuid": "7dda0857fe2554bbfbdb0cdff5c7507af682217d",
        "collapsed": true
      },
      "cell_type": "code",
      "source": "# corpus_test = []\n# ps = PorterStemmer()\n# for i in range(0,20000):\n#     review = re.sub('[^a-zA-Z]',' ',test_lines_nolabel[i])\n#     review = review.lower()\n#     review = review.split()\n#     review = [ps.stem(word) for word in review if not word in set(stopwords.words('english'))]\n#     review = ' '.join(review)\n#     corpus_test.append(review)",
      "execution_count": null,
      "outputs": []
    },
    {
      "metadata": {
        "trusted": true,
        "_uuid": "f68c49c791b8dae5f964f8fa56eb8c514fec55d4",
        "collapsed": true
      },
      "cell_type": "code",
      "source": "# save_corpus_test = open('corpus_test.pickle','wb')\n# pickle.dump(corpus_test,save_corpus_test)\n# save_corpus_test.close()\n\n# save_corpus_train = open('corpus_train.pickle','wb')\n# pickle.dump(corpus_train,save_corpus_train)\n# save_corpus_train.close()",
      "execution_count": null,
      "outputs": []
    },
    {
      "metadata": {
        "trusted": true,
        "_uuid": "470eba4d774040bcc9a7ac16272d317f1f1aeefa",
        "collapsed": true
      },
      "cell_type": "code",
      "source": "open_corpus_train = open('../input/pickles/corpus_train.pickle','rb')\ncorpus_train = pickle.load(open_corpus_train)\nopen_corpus_train.close()\n\nopen_corpus_test = open('../input/pickles/corpus_test.pickle','rb')\ncorpus_test = pickle.load(open_corpus_test)\nopen_corpus_test.close()",
      "execution_count": null,
      "outputs": []
    },
    {
      "metadata": {
        "trusted": true,
        "_uuid": "c8e9ee19e19807c817517d2781da052565f39bf8",
        "collapsed": true
      },
      "cell_type": "code",
      "source": "\n# save_train_review = open('train_review.pickle','wb')\n# pickle.dump(train_review[0:80000],save_train_review)\n# save_train_review.close()\n\n# save_test_review = open('test_review.pickle','wb')\n# pickle.dump(test_review[0:20000],save_test_review)\n# save_test_review.close()\n",
      "execution_count": null,
      "outputs": []
    },
    {
      "metadata": {
        "trusted": true,
        "_uuid": "2a605f3cb485f2eb628921f289a3099138c325c8",
        "collapsed": true
      },
      "cell_type": "code",
      "source": "open_train_review = open('../input/pickles/train_review.pickle','rb')\ntrain_review = pickle.load(open_train_review)\nopen_train_review.close()\n\nopen_test_review = open('../input/pickles/test_review.pickle','rb')\ntest_review = pickle.load(open_test_review)\nopen_test_review.close()",
      "execution_count": null,
      "outputs": []
    },
    {
      "metadata": {
        "trusted": true,
        "_uuid": "009de6bbb5e10b255ae329fa392ef9590e65861d",
        "collapsed": true
      },
      "cell_type": "code",
      "source": "#Bag of words\nfrom sklearn.feature_extraction.text import CountVectorizer\ncv = CountVectorizer(max_features=3000)\nX_train = cv.fit_transform(corpus_train).toarray()\nX_test = cv.transform(corpus_test).toarray()",
      "execution_count": null,
      "outputs": []
    },
    {
      "metadata": {
        "trusted": true,
        "collapsed": true,
        "_uuid": "3c378e9cc4bdf9200923294a7fd8d518f3191d91"
      },
      "cell_type": "code",
      "source": "save_cv = open('save_cv.pickle','wb')\npickle.dump(cv,save_cv)\nsave_cv.close()",
      "execution_count": null,
      "outputs": []
    },
    {
      "metadata": {
        "trusted": true,
        "_uuid": "5b4917bfe10a9795d3a9c78caa524cfa7c3aeb0a",
        "collapsed": true
      },
      "cell_type": "code",
      "source": "y_train = train_review\ny_test = test_review",
      "execution_count": null,
      "outputs": []
    },
    {
      "metadata": {
        "trusted": true,
        "collapsed": true,
        "_uuid": "34211286d97284f4ae134fd93aae8848f67c56af"
      },
      "cell_type": "code",
      "source": "# from sklearn.metrics import accuracy_score,precision_recall_fscore_support,confusion_matrix\n# def fit_alg(classifier):\n#     print(\"___\"*30)\n#     print(\"Fitting Classifier - {}...\".format(classifier))\n#     classifier.fit(X = X_train,y= y_train)\n    \n#     print(\"Predicting values for test set...\")\n#     y_pred = classifier.predict(X_test)\n#     scores = precision_recall_fscore_support(y_test,y_pred,average='binary')\n#     print(\"Confusion Matrix\")\n#     print(\"---\"*6)\n#     cm = confusion_matrix(y_test,y_pred)\n#     print(pd.DataFrame(cm))\n    \n#     print(\"\\nScores\")\n#     print(\"---\"*6)\n#     print(\"Precision :%0.2f | Recall :%0.2f | F1 Score :%0.2f | Score :%0.2f\" %(scores[0],scores[1],scores[2],accuracy_score(y_test,y_pred)*100))\n    \n    ",
      "execution_count": null,
      "outputs": []
    },
    {
      "metadata": {
        "trusted": true,
        "_uuid": "31f4c30945a0cbcdf7d218b56f1ebd9900bcfffe",
        "collapsed": true
      },
      "cell_type": "code",
      "source": "# from sklearn.naive_bayes import GaussianNB,MultinomialNB,BernoulliNB\n# classifierGNB = GaussianNB()\n# fit_alg(classifierGNB)\n\n# classifierMNB = MultinomialNB()\n# fit_alg(classifierMNB)\n\n# classifierBNB = BernoulliNB()\n# fit_alg(classifierBNB)",
      "execution_count": null,
      "outputs": []
    },
    {
      "metadata": {
        "trusted": true,
        "_uuid": "b3109a9c880c1a9c30b2150c79748387032f0b12",
        "collapsed": true
      },
      "cell_type": "code",
      "source": "# from sklearn.linear_model import LogisticRegression,SGDClassifier\n# classifierLR = LogisticRegression()\n# fit_alg(classifierLR)\n\n# classifierSGD = SGDClassifier()\n# fit_alg(classifierSGD)",
      "execution_count": null,
      "outputs": []
    },
    {
      "metadata": {
        "trusted": true,
        "_uuid": "8550ff3dc9fe83f7ae023e30e29bec17e35a2cf2",
        "collapsed": true
      },
      "cell_type": "code",
      "source": "from sklearn.svm import LinearSVC,SVC,NuSVC\n# classifierLSVC = LinearSVC()\n# fit_alg(LinearSVC)\n\n# classifierSVC = SVC()\n# fit_alg(classifierSVC)\n\n# classifierNuSVC = NuSVC\n# fit_alg(classifierNuSVC)\n",
      "execution_count": null,
      "outputs": []
    },
    {
      "metadata": {
        "trusted": true,
        "collapsed": true,
        "_uuid": "b61741c86b191c222c8095f8aab67321e039c725"
      },
      "cell_type": "code",
      "source": "# def checkReview(review,classifier):\n#     cor=[]\n#     ps = PorterStemmer()\n#     rev = re.sub('[^a-zA-Z]',' ',review)\n#     rev = rev.lower()\n#     rev = rev.split()\n#     rev = [ps.stem(word) for word in rev if not word in set(stopwords.words('english'))]\n#     rev = ' '.join(rev)\n#     cor.append(rev)\n#     cor = cv.transform(cor).toarray()\n#     output = classifier.predict(cor)[0]\n#     if output == 1:\n#         print(\"This is a GOOD Review\")\n#     else:\n#         print(\"This is BAD Review\")",
      "execution_count": null,
      "outputs": []
    },
    {
      "metadata": {
        "trusted": true,
        "_uuid": "1c55a0e48005c431d35e143b3943111c58e09a85",
        "collapsed": true
      },
      "cell_type": "code",
      "source": "# checkReview('''Functioned well for 10months. Than it stopped connecting ,so sent it to a JBL warranty centre in Delhi and they repaired and sent me someones else defective speaker after 2months and by that time it crossed my warranty period. Worst international warranty centre of JBL. Contaced the JBL guys and they only reply in emails but no monitoring of the corrupt centres .''',classifierLR)",
      "execution_count": null,
      "outputs": []
    },
    {
      "metadata": {
        "trusted": true,
        "_uuid": "a00178b01ccd1f288762deaef4b89158c082ec1b",
        "collapsed": true
      },
      "cell_type": "code",
      "source": "# cv.transform(['Functioned well for 10months. Than it stopped connecting ,so sent it to a JBL warranty centre in Delhi and they repaired and sent me someones else defective speaker after 2months and by that time it crossed my warranty period. Worst international warranty centre of JBL. Contaced the JBL guys and they only reply in emails but no monitoring of the corrupt centres .']).toarray()",
      "execution_count": null,
      "outputs": []
    },
    {
      "metadata": {
        "trusted": true,
        "_uuid": "d32c9c73f4a8d712a2f68eb2aee5c38b7e2f1d02",
        "collapsed": true
      },
      "cell_type": "code",
      "source": "# from sklearn.ensemble import VotingClassifier\n\n# vc = VotingClassifier(estimators=[('GaussianNB',classifierGNB),('MultinomialNB',classifierMNB),('BernoulliNB',classifierBNB),\n#                                  ('LogisticRegression',classifierLR),('SGDClassifier',classifierSGD)],voting = 'hard')\n# fit_alg(vc)",
      "execution_count": null,
      "outputs": []
    },
    {
      "metadata": {
        "trusted": true,
        "_uuid": "04f1f9ea287cd3911f5dc623e70cb5efd813071d",
        "collapsed": true
      },
      "cell_type": "code",
      "source": "# from sklearn.ensemble import RandomForestClassifier\n# classifierRF = RandomForestClassifier(n_estimators=500, max_leaf_nodes=16, n_jobs=-1)\n# fit_alg(classifierRF)",
      "execution_count": null,
      "outputs": []
    },
    {
      "metadata": {
        "trusted": true,
        "_uuid": "35eb2afcdaca2a0271b43b6e912bb92275e6820a",
        "collapsed": true
      },
      "cell_type": "code",
      "source": "# save_model= open('model.pickle','wb')\n# pickle.dump(vc,save_model)\n# save_model.close()",
      "execution_count": null,
      "outputs": []
    },
    {
      "metadata": {
        "trusted": true,
        "collapsed": true,
        "_uuid": "e6820f5ce9e01aad3e27feaa20fab8f89104e979"
      },
      "cell_type": "code",
      "source": "# open_model = open('model.pickle','rb')\n# classifierVC = pickle.load(open_model)\n# open_model.close()",
      "execution_count": null,
      "outputs": []
    },
    {
      "metadata": {
        "trusted": true,
        "_uuid": "5d3c42c52b508c39772bb8ed5524c21dd0f9e896",
        "collapsed": true
      },
      "cell_type": "code",
      "source": "# from sklearn.model_selection import cross_val_score\n# scores = cross_val_score(classifierVC,X_test,y_test,cv=5,scoring='accuracy')",
      "execution_count": null,
      "outputs": []
    },
    {
      "metadata": {
        "trusted": true,
        "_uuid": "ea1c4372cd6cb84463c3423622bec666680f203e"
      },
      "cell_type": "code",
      "source": "!conda list scikit",
      "execution_count": 7,
      "outputs": [
        {
          "output_type": "stream",
          "text": "# packages in environment at /opt/conda:\r\n#\r\n# Name                    Version                   Build  Channel\r\nscikit-image              0.13.0           py36had3c07a_1  \r\nscikit-learn              0.19.1           py36h7aa7ec6_0  \r\nscikit-learn              0.20.dev0                 <pip>\r\nscikit-multilearn         0.0.5                     <pip>\r\nscikit-optimize           0.5.2                     <pip>\r\nscikit-plot               0.3.5                     <pip>\r\nscikit-surprise           1.0.6                     <pip>\r\n",
          "name": "stdout"
        }
      ]
    },
    {
      "metadata": {
        "trusted": true,
        "_uuid": "21b2a8fff27703083b78baf227c6c3935616b79b"
      },
      "cell_type": "code",
      "source": "\n",
      "execution_count": 18,
      "outputs": [
        {
          "output_type": "error",
          "ename": "VersionConflict",
          "evalue": "(scikit-learn 0.20.dev0 (/opt/conda/lib/python3.6/site-packages), Requirement.parse('scikit-learn==0.19.1'))",
          "traceback": [
            "\u001b[0;31m---------------------------------------------------------------------------\u001b[0m",
            "\u001b[0;31mVersionConflict\u001b[0m                           Traceback (most recent call last)",
            "\u001b[0;32m<ipython-input-18-c64549a04c3e>\u001b[0m in \u001b[0;36m<module>\u001b[0;34m()\u001b[0m\n\u001b[1;32m      1\u001b[0m \u001b[0;32mimport\u001b[0m \u001b[0mpkg_resources\u001b[0m\u001b[0;34m\u001b[0m\u001b[0m\n\u001b[0;32m----> 2\u001b[0;31m \u001b[0mpkg_resources\u001b[0m\u001b[0;34m.\u001b[0m\u001b[0mrequire\u001b[0m\u001b[0;34m(\u001b[0m\u001b[0;34m\"scikit-learn==0.19.1\"\u001b[0m\u001b[0;34m)\u001b[0m\u001b[0;34m\u001b[0m\u001b[0m\n\u001b[0m",
            "\u001b[0;32m/opt/conda/lib/python3.6/site-packages/pkg_resources/__init__.py\u001b[0m in \u001b[0;36mrequire\u001b[0;34m(self, *requirements)\u001b[0m\n\u001b[1;32m    889\u001b[0m         \u001b[0mincluded\u001b[0m\u001b[0;34m,\u001b[0m \u001b[0meven\u001b[0m \u001b[0;32mif\u001b[0m \u001b[0mthey\u001b[0m \u001b[0mwere\u001b[0m \u001b[0malready\u001b[0m \u001b[0mactivated\u001b[0m \u001b[0;32min\u001b[0m \u001b[0mthis\u001b[0m \u001b[0mworking\u001b[0m \u001b[0mset\u001b[0m\u001b[0;34m.\u001b[0m\u001b[0;34m\u001b[0m\u001b[0m\n\u001b[1;32m    890\u001b[0m         \"\"\"\n\u001b[0;32m--> 891\u001b[0;31m         \u001b[0mneeded\u001b[0m \u001b[0;34m=\u001b[0m \u001b[0mself\u001b[0m\u001b[0;34m.\u001b[0m\u001b[0mresolve\u001b[0m\u001b[0;34m(\u001b[0m\u001b[0mparse_requirements\u001b[0m\u001b[0;34m(\u001b[0m\u001b[0mrequirements\u001b[0m\u001b[0;34m)\u001b[0m\u001b[0;34m)\u001b[0m\u001b[0;34m\u001b[0m\u001b[0m\n\u001b[0m\u001b[1;32m    892\u001b[0m \u001b[0;34m\u001b[0m\u001b[0m\n\u001b[1;32m    893\u001b[0m         \u001b[0;32mfor\u001b[0m \u001b[0mdist\u001b[0m \u001b[0;32min\u001b[0m \u001b[0mneeded\u001b[0m\u001b[0;34m:\u001b[0m\u001b[0;34m\u001b[0m\u001b[0m\n",
            "\u001b[0;32m/opt/conda/lib/python3.6/site-packages/pkg_resources/__init__.py\u001b[0m in \u001b[0;36mresolve\u001b[0;34m(self, requirements, env, installer, replace_conflicting, extras)\u001b[0m\n\u001b[1;32m    780\u001b[0m                 \u001b[0;31m# Oops, the \"best\" so far conflicts with a dependency\u001b[0m\u001b[0;34m\u001b[0m\u001b[0;34m\u001b[0m\u001b[0m\n\u001b[1;32m    781\u001b[0m                 \u001b[0mdependent_req\u001b[0m \u001b[0;34m=\u001b[0m \u001b[0mrequired_by\u001b[0m\u001b[0;34m[\u001b[0m\u001b[0mreq\u001b[0m\u001b[0;34m]\u001b[0m\u001b[0;34m\u001b[0m\u001b[0m\n\u001b[0;32m--> 782\u001b[0;31m                 \u001b[0;32mraise\u001b[0m \u001b[0mVersionConflict\u001b[0m\u001b[0;34m(\u001b[0m\u001b[0mdist\u001b[0m\u001b[0;34m,\u001b[0m \u001b[0mreq\u001b[0m\u001b[0;34m)\u001b[0m\u001b[0;34m.\u001b[0m\u001b[0mwith_context\u001b[0m\u001b[0;34m(\u001b[0m\u001b[0mdependent_req\u001b[0m\u001b[0;34m)\u001b[0m\u001b[0;34m\u001b[0m\u001b[0m\n\u001b[0m\u001b[1;32m    783\u001b[0m \u001b[0;34m\u001b[0m\u001b[0m\n\u001b[1;32m    784\u001b[0m             \u001b[0;31m# push the new requirements onto the stack\u001b[0m\u001b[0;34m\u001b[0m\u001b[0;34m\u001b[0m\u001b[0m\n",
            "\u001b[0;31mVersionConflict\u001b[0m: (scikit-learn 0.20.dev0 (/opt/conda/lib/python3.6/site-packages), Requirement.parse('scikit-learn==0.19.1'))"
          ]
        }
      ]
    },
    {
      "metadata": {
        "trusted": true,
        "_uuid": "46cc7764bf0e13ac61768f23f326bd7b576a7c90"
      },
      "cell_type": "code",
      "source": "",
      "execution_count": 17,
      "outputs": [
        {
          "output_type": "error",
          "ename": "SyntaxError",
          "evalue": "invalid syntax (<ipython-input-17-8de523a307c4>, line 2)",
          "traceback": [
            "\u001b[0;36m  File \u001b[0;32m\"<ipython-input-17-8de523a307c4>\"\u001b[0;36m, line \u001b[0;32m2\u001b[0m\n\u001b[0;31m    import sklearn==0.19.1\u001b[0m\n\u001b[0m                   ^\u001b[0m\n\u001b[0;31mSyntaxError\u001b[0m\u001b[0;31m:\u001b[0m invalid syntax\n"
          ]
        }
      ]
    },
    {
      "metadata": {
        "trusted": true,
        "collapsed": true,
        "_uuid": "0ccf084ec34da95fb9f93542859d6360e035f53d"
      },
      "cell_type": "code",
      "source": "",
      "execution_count": null,
      "outputs": []
    }
  ],
  "metadata": {
    "kernelspec": {
      "display_name": "Python 3",
      "language": "python",
      "name": "python3"
    },
    "language_info": {
      "name": "python",
      "version": "3.6.6",
      "mimetype": "text/x-python",
      "codemirror_mode": {
        "name": "ipython",
        "version": 3
      },
      "pygments_lexer": "ipython3",
      "nbconvert_exporter": "python",
      "file_extension": ".py"
    }
  },
  "nbformat": 4,
  "nbformat_minor": 1
}